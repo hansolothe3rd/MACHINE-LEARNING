{
  "nbformat": 4,
  "nbformat_minor": 0,
  "metadata": {
    "colab": {
      "provenance": [],
      "mount_file_id": "1dS9XAbC64UDEVkXvop-xD8MKCsPbMxmf",
      "authorship_tag": "ABX9TyMim06yP3YVe0S9daRsStOl",
      "include_colab_link": true
    },
    "kernelspec": {
      "name": "python3",
      "display_name": "Python 3"
    },
    "language_info": {
      "name": "python"
    }
  },
  "cells": [
    {
      "cell_type": "markdown",
      "metadata": {
        "id": "view-in-github",
        "colab_type": "text"
      },
      "source": [
        "<a href=\"https://colab.research.google.com/github/hansolothe3rd/MACHINE-LEARNING/blob/main/Sloan_Digital_Sky_Survey_DR16.ipynb\" target=\"_parent\"><img src=\"https://colab.research.google.com/assets/colab-badge.svg\" alt=\"Open In Colab\"/></a>"
      ]
    },
    {
      "cell_type": "markdown",
      "source": [
        "# Sloan Digital Sky Survey DR16\n",
        "- Daniel Barella\n",
        "- 12/7/22"
      ],
      "metadata": {
        "id": "oyzpWpDPPWO3"
      }
    },
    {
      "cell_type": "markdown",
      "source": [
        "## Assignment:\n",
        "Using the approved dataset you proposed for project 2 part 1 last week, you will clean and explore the data set.\n",
        "\n",
        "To meet the requirements for this week you must have:\n",
        "\n",
        "- Deleted unnecessary columns.\n",
        "- Deleted duplicate rows.\n",
        "- Identified and addressed missing values.\n",
        "- Identified and corrected inconsistencies in data for categorical values (i.e. Cat, cat, cats).\n",
        "- Produced univariate visuals for the target and all features.\n",
        "- Identified outliers.\n",
        "- Clearly commented all of your cleaning steps and described any decisions you made."
      ],
      "metadata": {
        "id": "3hb_y8HPSD92"
      }
    },
    {
      "cell_type": "markdown",
      "source": [
        "\n",
        "Source of data\n",
        "- https://www.kaggle.com/datasets/muhakabartay/sloan-digital-sky-survey-dr16"
      ],
      "metadata": {
        "id": "7I9gQc_ql3B2"
      }
    },
    {
      "cell_type": "markdown",
      "source": [
        "License: \n",
        "- Creative Commons Attribution license ([CC-BY](https://creativecommons.org/licenses/by-sa/4.0/))"
      ],
      "metadata": {
        "id": "_xv_WV3Tl8a1"
      }
    },
    {
      "cell_type": "markdown",
      "source": [
        "## Content\n",
        "The table results from a query which joins two tables:\n",
        "\n",
        "- \"PhotoObj\" which contains photometric data\n",
        "- \"SpecObj\" which contains spectral data.\n",
        "16 variables (double) and 1 additional variable (char) 'class'.\n",
        "A class object can be predicted from the other 16 variables.\n",
        "\n",
        "Variables description:\n",
        "- objid = Object Identifier\n",
        "- ra = J2000 Right Ascension (r-band)\n",
        "- dec = J2000 Declination (r-band)\n",
        "- u = better of deV/Exp magnitude fit (u-band)\n",
        "- g = better of deV/Exp magnitude fit (g-band)\n",
        "- r = better of deV/Exp magnitude fit (r-band)\n",
        "- i = better of deV/Exp magnitude fit (i-band)\n",
        "- z = better of deV/Exp magnitude fit (z-band)\n",
        "- run = Run Number\n",
        "- rerun = Rerun Number\n",
        "- camcol = Camera column\n",
        "- field = Field number\n",
        "- specobjid = Object Identifier\n",
        "- class = object class (galaxy, star or quasar object)\n",
        "- redshift = Final Redshift\n",
        "- plate = plate number\n",
        "- mjd = MJD of observation\n",
        "- fiberid = fiberID"
      ],
      "metadata": {
        "id": "g0phjifWjMLf"
      }
    },
    {
      "cell_type": "code",
      "execution_count": 71,
      "metadata": {
        "id": "yL2O5FsBN2nE"
      },
      "outputs": [],
      "source": [
        "import pandas as pd\n",
        "import seaborn as sns\n",
        "import matplotlib.pyplot as plt"
      ]
    },
    {
      "cell_type": "code",
      "source": [
        "df = pd.read_csv('/content/Skyserver_12_30_2019 4_49_58 PM.csv')\n",
        "df.head()"
      ],
      "metadata": {
        "colab": {
          "base_uri": "https://localhost:8080/",
          "height": 270
        },
        "id": "ldd5jd75ZFfB",
        "outputId": "6b92c4c7-7fac-4543-a45a-99e16c0cafb0"
      },
      "execution_count": 72,
      "outputs": [
        {
          "output_type": "execute_result",
          "data": {
            "text/plain": [
              "                 objid          ra        dec         u         g         r  \\\n",
              "0  1237666301628060000   47.372545   0.820621  18.69254  17.13867  16.55555   \n",
              "1  1237673706652430000  116.303083  42.455980  18.47633  17.30546  17.24116   \n",
              "2  1237671126974140000  172.756623  -8.785698  16.47714  15.31072  15.55971   \n",
              "3  1237665441518260000  201.224207  28.771290  18.63561  16.88346  16.09825   \n",
              "4  1237665441522840000  212.817222  26.625225  18.88325  17.87948  17.47037   \n",
              "\n",
              "          i         z   run  rerun  camcol  field            specobjid  \\\n",
              "0  16.34662  16.17639  4849    301       5    771  8168632633242440000   \n",
              "1  17.32780  17.37114  6573    301       6    220  9333948945297330000   \n",
              "2  15.72207  15.82471  5973    301       1     13  3221211255238850000   \n",
              "3  15.70987  15.43491  4649    301       3    121  2254061292459420000   \n",
              "4  17.17441  17.05235  4649    301       3    191  2390305906828010000   \n",
              "\n",
              "    class  redshift  plate    mjd  fiberid  \n",
              "0    STAR  0.000115   7255  56597      832  \n",
              "1    STAR -0.000093   8290  57364      868  \n",
              "2    STAR  0.000165   2861  54583       42  \n",
              "3  GALAXY  0.058155   2002  53471       35  \n",
              "4  GALAXY  0.072210   2123  53793       74  "
            ],
            "text/html": [
              "\n",
              "  <div id=\"df-256a6b45-a4ed-444c-b34a-28110e6afa29\">\n",
              "    <div class=\"colab-df-container\">\n",
              "      <div>\n",
              "<style scoped>\n",
              "    .dataframe tbody tr th:only-of-type {\n",
              "        vertical-align: middle;\n",
              "    }\n",
              "\n",
              "    .dataframe tbody tr th {\n",
              "        vertical-align: top;\n",
              "    }\n",
              "\n",
              "    .dataframe thead th {\n",
              "        text-align: right;\n",
              "    }\n",
              "</style>\n",
              "<table border=\"1\" class=\"dataframe\">\n",
              "  <thead>\n",
              "    <tr style=\"text-align: right;\">\n",
              "      <th></th>\n",
              "      <th>objid</th>\n",
              "      <th>ra</th>\n",
              "      <th>dec</th>\n",
              "      <th>u</th>\n",
              "      <th>g</th>\n",
              "      <th>r</th>\n",
              "      <th>i</th>\n",
              "      <th>z</th>\n",
              "      <th>run</th>\n",
              "      <th>rerun</th>\n",
              "      <th>camcol</th>\n",
              "      <th>field</th>\n",
              "      <th>specobjid</th>\n",
              "      <th>class</th>\n",
              "      <th>redshift</th>\n",
              "      <th>plate</th>\n",
              "      <th>mjd</th>\n",
              "      <th>fiberid</th>\n",
              "    </tr>\n",
              "  </thead>\n",
              "  <tbody>\n",
              "    <tr>\n",
              "      <th>0</th>\n",
              "      <td>1237666301628060000</td>\n",
              "      <td>47.372545</td>\n",
              "      <td>0.820621</td>\n",
              "      <td>18.69254</td>\n",
              "      <td>17.13867</td>\n",
              "      <td>16.55555</td>\n",
              "      <td>16.34662</td>\n",
              "      <td>16.17639</td>\n",
              "      <td>4849</td>\n",
              "      <td>301</td>\n",
              "      <td>5</td>\n",
              "      <td>771</td>\n",
              "      <td>8168632633242440000</td>\n",
              "      <td>STAR</td>\n",
              "      <td>0.000115</td>\n",
              "      <td>7255</td>\n",
              "      <td>56597</td>\n",
              "      <td>832</td>\n",
              "    </tr>\n",
              "    <tr>\n",
              "      <th>1</th>\n",
              "      <td>1237673706652430000</td>\n",
              "      <td>116.303083</td>\n",
              "      <td>42.455980</td>\n",
              "      <td>18.47633</td>\n",
              "      <td>17.30546</td>\n",
              "      <td>17.24116</td>\n",
              "      <td>17.32780</td>\n",
              "      <td>17.37114</td>\n",
              "      <td>6573</td>\n",
              "      <td>301</td>\n",
              "      <td>6</td>\n",
              "      <td>220</td>\n",
              "      <td>9333948945297330000</td>\n",
              "      <td>STAR</td>\n",
              "      <td>-0.000093</td>\n",
              "      <td>8290</td>\n",
              "      <td>57364</td>\n",
              "      <td>868</td>\n",
              "    </tr>\n",
              "    <tr>\n",
              "      <th>2</th>\n",
              "      <td>1237671126974140000</td>\n",
              "      <td>172.756623</td>\n",
              "      <td>-8.785698</td>\n",
              "      <td>16.47714</td>\n",
              "      <td>15.31072</td>\n",
              "      <td>15.55971</td>\n",
              "      <td>15.72207</td>\n",
              "      <td>15.82471</td>\n",
              "      <td>5973</td>\n",
              "      <td>301</td>\n",
              "      <td>1</td>\n",
              "      <td>13</td>\n",
              "      <td>3221211255238850000</td>\n",
              "      <td>STAR</td>\n",
              "      <td>0.000165</td>\n",
              "      <td>2861</td>\n",
              "      <td>54583</td>\n",
              "      <td>42</td>\n",
              "    </tr>\n",
              "    <tr>\n",
              "      <th>3</th>\n",
              "      <td>1237665441518260000</td>\n",
              "      <td>201.224207</td>\n",
              "      <td>28.771290</td>\n",
              "      <td>18.63561</td>\n",
              "      <td>16.88346</td>\n",
              "      <td>16.09825</td>\n",
              "      <td>15.70987</td>\n",
              "      <td>15.43491</td>\n",
              "      <td>4649</td>\n",
              "      <td>301</td>\n",
              "      <td>3</td>\n",
              "      <td>121</td>\n",
              "      <td>2254061292459420000</td>\n",
              "      <td>GALAXY</td>\n",
              "      <td>0.058155</td>\n",
              "      <td>2002</td>\n",
              "      <td>53471</td>\n",
              "      <td>35</td>\n",
              "    </tr>\n",
              "    <tr>\n",
              "      <th>4</th>\n",
              "      <td>1237665441522840000</td>\n",
              "      <td>212.817222</td>\n",
              "      <td>26.625225</td>\n",
              "      <td>18.88325</td>\n",
              "      <td>17.87948</td>\n",
              "      <td>17.47037</td>\n",
              "      <td>17.17441</td>\n",
              "      <td>17.05235</td>\n",
              "      <td>4649</td>\n",
              "      <td>301</td>\n",
              "      <td>3</td>\n",
              "      <td>191</td>\n",
              "      <td>2390305906828010000</td>\n",
              "      <td>GALAXY</td>\n",
              "      <td>0.072210</td>\n",
              "      <td>2123</td>\n",
              "      <td>53793</td>\n",
              "      <td>74</td>\n",
              "    </tr>\n",
              "  </tbody>\n",
              "</table>\n",
              "</div>\n",
              "      <button class=\"colab-df-convert\" onclick=\"convertToInteractive('df-256a6b45-a4ed-444c-b34a-28110e6afa29')\"\n",
              "              title=\"Convert this dataframe to an interactive table.\"\n",
              "              style=\"display:none;\">\n",
              "        \n",
              "  <svg xmlns=\"http://www.w3.org/2000/svg\" height=\"24px\"viewBox=\"0 0 24 24\"\n",
              "       width=\"24px\">\n",
              "    <path d=\"M0 0h24v24H0V0z\" fill=\"none\"/>\n",
              "    <path d=\"M18.56 5.44l.94 2.06.94-2.06 2.06-.94-2.06-.94-.94-2.06-.94 2.06-2.06.94zm-11 1L8.5 8.5l.94-2.06 2.06-.94-2.06-.94L8.5 2.5l-.94 2.06-2.06.94zm10 10l.94 2.06.94-2.06 2.06-.94-2.06-.94-.94-2.06-.94 2.06-2.06.94z\"/><path d=\"M17.41 7.96l-1.37-1.37c-.4-.4-.92-.59-1.43-.59-.52 0-1.04.2-1.43.59L10.3 9.45l-7.72 7.72c-.78.78-.78 2.05 0 2.83L4 21.41c.39.39.9.59 1.41.59.51 0 1.02-.2 1.41-.59l7.78-7.78 2.81-2.81c.8-.78.8-2.07 0-2.86zM5.41 20L4 18.59l7.72-7.72 1.47 1.35L5.41 20z\"/>\n",
              "  </svg>\n",
              "      </button>\n",
              "      \n",
              "  <style>\n",
              "    .colab-df-container {\n",
              "      display:flex;\n",
              "      flex-wrap:wrap;\n",
              "      gap: 12px;\n",
              "    }\n",
              "\n",
              "    .colab-df-convert {\n",
              "      background-color: #E8F0FE;\n",
              "      border: none;\n",
              "      border-radius: 50%;\n",
              "      cursor: pointer;\n",
              "      display: none;\n",
              "      fill: #1967D2;\n",
              "      height: 32px;\n",
              "      padding: 0 0 0 0;\n",
              "      width: 32px;\n",
              "    }\n",
              "\n",
              "    .colab-df-convert:hover {\n",
              "      background-color: #E2EBFA;\n",
              "      box-shadow: 0px 1px 2px rgba(60, 64, 67, 0.3), 0px 1px 3px 1px rgba(60, 64, 67, 0.15);\n",
              "      fill: #174EA6;\n",
              "    }\n",
              "\n",
              "    [theme=dark] .colab-df-convert {\n",
              "      background-color: #3B4455;\n",
              "      fill: #D2E3FC;\n",
              "    }\n",
              "\n",
              "    [theme=dark] .colab-df-convert:hover {\n",
              "      background-color: #434B5C;\n",
              "      box-shadow: 0px 1px 3px 1px rgba(0, 0, 0, 0.15);\n",
              "      filter: drop-shadow(0px 1px 2px rgba(0, 0, 0, 0.3));\n",
              "      fill: #FFFFFF;\n",
              "    }\n",
              "  </style>\n",
              "\n",
              "      <script>\n",
              "        const buttonEl =\n",
              "          document.querySelector('#df-256a6b45-a4ed-444c-b34a-28110e6afa29 button.colab-df-convert');\n",
              "        buttonEl.style.display =\n",
              "          google.colab.kernel.accessAllowed ? 'block' : 'none';\n",
              "\n",
              "        async function convertToInteractive(key) {\n",
              "          const element = document.querySelector('#df-256a6b45-a4ed-444c-b34a-28110e6afa29');\n",
              "          const dataTable =\n",
              "            await google.colab.kernel.invokeFunction('convertToInteractive',\n",
              "                                                     [key], {});\n",
              "          if (!dataTable) return;\n",
              "\n",
              "          const docLinkHtml = 'Like what you see? Visit the ' +\n",
              "            '<a target=\"_blank\" href=https://colab.research.google.com/notebooks/data_table.ipynb>data table notebook</a>'\n",
              "            + ' to learn more about interactive tables.';\n",
              "          element.innerHTML = '';\n",
              "          dataTable['output_type'] = 'display_data';\n",
              "          await google.colab.output.renderOutput(dataTable, element);\n",
              "          const docLink = document.createElement('div');\n",
              "          docLink.innerHTML = docLinkHtml;\n",
              "          element.appendChild(docLink);\n",
              "        }\n",
              "      </script>\n",
              "    </div>\n",
              "  </div>\n",
              "  "
            ]
          },
          "metadata": {},
          "execution_count": 72
        }
      ]
    },
    {
      "cell_type": "code",
      "source": [
        "df_ml = df.copy()\n",
        "df_ml = df_ml.drop(['objid', 'specobjid', 'fiberid'], axis=1)\n",
        "df_ml.head()"
      ],
      "metadata": {
        "colab": {
          "base_uri": "https://localhost:8080/",
          "height": 206
        },
        "id": "p1JaiOPMZksp",
        "outputId": "0c278d43-8026-4a50-e249-85529fbf4df4"
      },
      "execution_count": 73,
      "outputs": [
        {
          "output_type": "execute_result",
          "data": {
            "text/plain": [
              "           ra        dec         u         g         r         i         z  \\\n",
              "0   47.372545   0.820621  18.69254  17.13867  16.55555  16.34662  16.17639   \n",
              "1  116.303083  42.455980  18.47633  17.30546  17.24116  17.32780  17.37114   \n",
              "2  172.756623  -8.785698  16.47714  15.31072  15.55971  15.72207  15.82471   \n",
              "3  201.224207  28.771290  18.63561  16.88346  16.09825  15.70987  15.43491   \n",
              "4  212.817222  26.625225  18.88325  17.87948  17.47037  17.17441  17.05235   \n",
              "\n",
              "    run  rerun  camcol  field   class  redshift  plate    mjd  \n",
              "0  4849    301       5    771    STAR  0.000115   7255  56597  \n",
              "1  6573    301       6    220    STAR -0.000093   8290  57364  \n",
              "2  5973    301       1     13    STAR  0.000165   2861  54583  \n",
              "3  4649    301       3    121  GALAXY  0.058155   2002  53471  \n",
              "4  4649    301       3    191  GALAXY  0.072210   2123  53793  "
            ],
            "text/html": [
              "\n",
              "  <div id=\"df-9cf8db21-0feb-495b-8652-53eabff5bb03\">\n",
              "    <div class=\"colab-df-container\">\n",
              "      <div>\n",
              "<style scoped>\n",
              "    .dataframe tbody tr th:only-of-type {\n",
              "        vertical-align: middle;\n",
              "    }\n",
              "\n",
              "    .dataframe tbody tr th {\n",
              "        vertical-align: top;\n",
              "    }\n",
              "\n",
              "    .dataframe thead th {\n",
              "        text-align: right;\n",
              "    }\n",
              "</style>\n",
              "<table border=\"1\" class=\"dataframe\">\n",
              "  <thead>\n",
              "    <tr style=\"text-align: right;\">\n",
              "      <th></th>\n",
              "      <th>ra</th>\n",
              "      <th>dec</th>\n",
              "      <th>u</th>\n",
              "      <th>g</th>\n",
              "      <th>r</th>\n",
              "      <th>i</th>\n",
              "      <th>z</th>\n",
              "      <th>run</th>\n",
              "      <th>rerun</th>\n",
              "      <th>camcol</th>\n",
              "      <th>field</th>\n",
              "      <th>class</th>\n",
              "      <th>redshift</th>\n",
              "      <th>plate</th>\n",
              "      <th>mjd</th>\n",
              "    </tr>\n",
              "  </thead>\n",
              "  <tbody>\n",
              "    <tr>\n",
              "      <th>0</th>\n",
              "      <td>47.372545</td>\n",
              "      <td>0.820621</td>\n",
              "      <td>18.69254</td>\n",
              "      <td>17.13867</td>\n",
              "      <td>16.55555</td>\n",
              "      <td>16.34662</td>\n",
              "      <td>16.17639</td>\n",
              "      <td>4849</td>\n",
              "      <td>301</td>\n",
              "      <td>5</td>\n",
              "      <td>771</td>\n",
              "      <td>STAR</td>\n",
              "      <td>0.000115</td>\n",
              "      <td>7255</td>\n",
              "      <td>56597</td>\n",
              "    </tr>\n",
              "    <tr>\n",
              "      <th>1</th>\n",
              "      <td>116.303083</td>\n",
              "      <td>42.455980</td>\n",
              "      <td>18.47633</td>\n",
              "      <td>17.30546</td>\n",
              "      <td>17.24116</td>\n",
              "      <td>17.32780</td>\n",
              "      <td>17.37114</td>\n",
              "      <td>6573</td>\n",
              "      <td>301</td>\n",
              "      <td>6</td>\n",
              "      <td>220</td>\n",
              "      <td>STAR</td>\n",
              "      <td>-0.000093</td>\n",
              "      <td>8290</td>\n",
              "      <td>57364</td>\n",
              "    </tr>\n",
              "    <tr>\n",
              "      <th>2</th>\n",
              "      <td>172.756623</td>\n",
              "      <td>-8.785698</td>\n",
              "      <td>16.47714</td>\n",
              "      <td>15.31072</td>\n",
              "      <td>15.55971</td>\n",
              "      <td>15.72207</td>\n",
              "      <td>15.82471</td>\n",
              "      <td>5973</td>\n",
              "      <td>301</td>\n",
              "      <td>1</td>\n",
              "      <td>13</td>\n",
              "      <td>STAR</td>\n",
              "      <td>0.000165</td>\n",
              "      <td>2861</td>\n",
              "      <td>54583</td>\n",
              "    </tr>\n",
              "    <tr>\n",
              "      <th>3</th>\n",
              "      <td>201.224207</td>\n",
              "      <td>28.771290</td>\n",
              "      <td>18.63561</td>\n",
              "      <td>16.88346</td>\n",
              "      <td>16.09825</td>\n",
              "      <td>15.70987</td>\n",
              "      <td>15.43491</td>\n",
              "      <td>4649</td>\n",
              "      <td>301</td>\n",
              "      <td>3</td>\n",
              "      <td>121</td>\n",
              "      <td>GALAXY</td>\n",
              "      <td>0.058155</td>\n",
              "      <td>2002</td>\n",
              "      <td>53471</td>\n",
              "    </tr>\n",
              "    <tr>\n",
              "      <th>4</th>\n",
              "      <td>212.817222</td>\n",
              "      <td>26.625225</td>\n",
              "      <td>18.88325</td>\n",
              "      <td>17.87948</td>\n",
              "      <td>17.47037</td>\n",
              "      <td>17.17441</td>\n",
              "      <td>17.05235</td>\n",
              "      <td>4649</td>\n",
              "      <td>301</td>\n",
              "      <td>3</td>\n",
              "      <td>191</td>\n",
              "      <td>GALAXY</td>\n",
              "      <td>0.072210</td>\n",
              "      <td>2123</td>\n",
              "      <td>53793</td>\n",
              "    </tr>\n",
              "  </tbody>\n",
              "</table>\n",
              "</div>\n",
              "      <button class=\"colab-df-convert\" onclick=\"convertToInteractive('df-9cf8db21-0feb-495b-8652-53eabff5bb03')\"\n",
              "              title=\"Convert this dataframe to an interactive table.\"\n",
              "              style=\"display:none;\">\n",
              "        \n",
              "  <svg xmlns=\"http://www.w3.org/2000/svg\" height=\"24px\"viewBox=\"0 0 24 24\"\n",
              "       width=\"24px\">\n",
              "    <path d=\"M0 0h24v24H0V0z\" fill=\"none\"/>\n",
              "    <path d=\"M18.56 5.44l.94 2.06.94-2.06 2.06-.94-2.06-.94-.94-2.06-.94 2.06-2.06.94zm-11 1L8.5 8.5l.94-2.06 2.06-.94-2.06-.94L8.5 2.5l-.94 2.06-2.06.94zm10 10l.94 2.06.94-2.06 2.06-.94-2.06-.94-.94-2.06-.94 2.06-2.06.94z\"/><path d=\"M17.41 7.96l-1.37-1.37c-.4-.4-.92-.59-1.43-.59-.52 0-1.04.2-1.43.59L10.3 9.45l-7.72 7.72c-.78.78-.78 2.05 0 2.83L4 21.41c.39.39.9.59 1.41.59.51 0 1.02-.2 1.41-.59l7.78-7.78 2.81-2.81c.8-.78.8-2.07 0-2.86zM5.41 20L4 18.59l7.72-7.72 1.47 1.35L5.41 20z\"/>\n",
              "  </svg>\n",
              "      </button>\n",
              "      \n",
              "  <style>\n",
              "    .colab-df-container {\n",
              "      display:flex;\n",
              "      flex-wrap:wrap;\n",
              "      gap: 12px;\n",
              "    }\n",
              "\n",
              "    .colab-df-convert {\n",
              "      background-color: #E8F0FE;\n",
              "      border: none;\n",
              "      border-radius: 50%;\n",
              "      cursor: pointer;\n",
              "      display: none;\n",
              "      fill: #1967D2;\n",
              "      height: 32px;\n",
              "      padding: 0 0 0 0;\n",
              "      width: 32px;\n",
              "    }\n",
              "\n",
              "    .colab-df-convert:hover {\n",
              "      background-color: #E2EBFA;\n",
              "      box-shadow: 0px 1px 2px rgba(60, 64, 67, 0.3), 0px 1px 3px 1px rgba(60, 64, 67, 0.15);\n",
              "      fill: #174EA6;\n",
              "    }\n",
              "\n",
              "    [theme=dark] .colab-df-convert {\n",
              "      background-color: #3B4455;\n",
              "      fill: #D2E3FC;\n",
              "    }\n",
              "\n",
              "    [theme=dark] .colab-df-convert:hover {\n",
              "      background-color: #434B5C;\n",
              "      box-shadow: 0px 1px 3px 1px rgba(0, 0, 0, 0.15);\n",
              "      filter: drop-shadow(0px 1px 2px rgba(0, 0, 0, 0.3));\n",
              "      fill: #FFFFFF;\n",
              "    }\n",
              "  </style>\n",
              "\n",
              "      <script>\n",
              "        const buttonEl =\n",
              "          document.querySelector('#df-9cf8db21-0feb-495b-8652-53eabff5bb03 button.colab-df-convert');\n",
              "        buttonEl.style.display =\n",
              "          google.colab.kernel.accessAllowed ? 'block' : 'none';\n",
              "\n",
              "        async function convertToInteractive(key) {\n",
              "          const element = document.querySelector('#df-9cf8db21-0feb-495b-8652-53eabff5bb03');\n",
              "          const dataTable =\n",
              "            await google.colab.kernel.invokeFunction('convertToInteractive',\n",
              "                                                     [key], {});\n",
              "          if (!dataTable) return;\n",
              "\n",
              "          const docLinkHtml = 'Like what you see? Visit the ' +\n",
              "            '<a target=\"_blank\" href=https://colab.research.google.com/notebooks/data_table.ipynb>data table notebook</a>'\n",
              "            + ' to learn more about interactive tables.';\n",
              "          element.innerHTML = '';\n",
              "          dataTable['output_type'] = 'display_data';\n",
              "          await google.colab.output.renderOutput(dataTable, element);\n",
              "          const docLink = document.createElement('div');\n",
              "          docLink.innerHTML = docLinkHtml;\n",
              "          element.appendChild(docLink);\n",
              "        }\n",
              "      </script>\n",
              "    </div>\n",
              "  </div>\n",
              "  "
            ]
          },
          "metadata": {},
          "execution_count": 73
        }
      ]
    },
    {
      "cell_type": "markdown",
      "source": [
        "- Dropping the id columns here will allow for better ML."
      ],
      "metadata": {
        "id": "WhHxwkGko56k"
      }
    },
    {
      "cell_type": "markdown",
      "source": [
        "## Prepare/clean the data for exploratory analysis purposes"
      ],
      "metadata": {
        "id": "tYj7HNlxg97E"
      }
    },
    {
      "cell_type": "markdown",
      "source": [
        "How many rows and columns?\n"
      ],
      "metadata": {
        "id": "5DMa37SlhX9v"
      }
    },
    {
      "cell_type": "code",
      "source": [
        "df_ml.shape"
      ],
      "metadata": {
        "colab": {
          "base_uri": "https://localhost:8080/"
        },
        "id": "LGFWs3TggleO",
        "outputId": "e97485ea-b930-4792-a7d9-52ffffd35221"
      },
      "execution_count": 74,
      "outputs": [
        {
          "output_type": "execute_result",
          "data": {
            "text/plain": [
              "(100000, 15)"
            ]
          },
          "metadata": {},
          "execution_count": 74
        }
      ]
    },
    {
      "cell_type": "markdown",
      "source": [
        "What are the datatypes of each variable?"
      ],
      "metadata": {
        "id": "Y056s3b8hnMA"
      }
    },
    {
      "cell_type": "code",
      "source": [
        "df_ml.info()"
      ],
      "metadata": {
        "colab": {
          "base_uri": "https://localhost:8080/"
        },
        "id": "lwRwEzJrhdrk",
        "outputId": "50660212-eec6-47bf-b7f3-d8e553041035"
      },
      "execution_count": 75,
      "outputs": [
        {
          "output_type": "stream",
          "name": "stdout",
          "text": [
            "<class 'pandas.core.frame.DataFrame'>\n",
            "RangeIndex: 100000 entries, 0 to 99999\n",
            "Data columns (total 15 columns):\n",
            " #   Column    Non-Null Count   Dtype  \n",
            "---  ------    --------------   -----  \n",
            " 0   ra        100000 non-null  float64\n",
            " 1   dec       100000 non-null  float64\n",
            " 2   u         100000 non-null  float64\n",
            " 3   g         100000 non-null  float64\n",
            " 4   r         100000 non-null  float64\n",
            " 5   i         100000 non-null  float64\n",
            " 6   z         100000 non-null  float64\n",
            " 7   run       100000 non-null  int64  \n",
            " 8   rerun     100000 non-null  int64  \n",
            " 9   camcol    100000 non-null  int64  \n",
            " 10  field     100000 non-null  int64  \n",
            " 11  class     100000 non-null  object \n",
            " 12  redshift  100000 non-null  float64\n",
            " 13  plate     100000 non-null  int64  \n",
            " 14  mjd       100000 non-null  int64  \n",
            "dtypes: float64(8), int64(6), object(1)\n",
            "memory usage: 11.4+ MB\n"
          ]
        }
      ]
    },
    {
      "cell_type": "markdown",
      "source": [
        "Are there duplicates? If so, drop any duplicates."
      ],
      "metadata": {
        "id": "k11tFCPYlUF-"
      }
    },
    {
      "cell_type": "code",
      "source": [
        "df_ml.duplicated().sum()"
      ],
      "metadata": {
        "colab": {
          "base_uri": "https://localhost:8080/"
        },
        "id": "4WdoLPOTlXN9",
        "outputId": "825a47ce-a412-426f-ed73-57da220ac52e"
      },
      "execution_count": 76,
      "outputs": [
        {
          "output_type": "execute_result",
          "data": {
            "text/plain": [
              "0"
            ]
          },
          "metadata": {},
          "execution_count": 76
        }
      ]
    },
    {
      "cell_type": "markdown",
      "source": [
        "Identify missing values."
      ],
      "metadata": {
        "id": "a7SmHrWuq4Ya"
      }
    },
    {
      "cell_type": "code",
      "source": [
        "df_ml.isna().sum()"
      ],
      "metadata": {
        "colab": {
          "base_uri": "https://localhost:8080/"
        },
        "id": "DtPL4wM_hv_O",
        "outputId": "e72f1ef4-f95f-4080-f29c-3fc05b6ae2d8"
      },
      "execution_count": 77,
      "outputs": [
        {
          "output_type": "execute_result",
          "data": {
            "text/plain": [
              "ra          0\n",
              "dec         0\n",
              "u           0\n",
              "g           0\n",
              "r           0\n",
              "i           0\n",
              "z           0\n",
              "run         0\n",
              "rerun       0\n",
              "camcol      0\n",
              "field       0\n",
              "class       0\n",
              "redshift    0\n",
              "plate       0\n",
              "mjd         0\n",
              "dtype: int64"
            ]
          },
          "metadata": {},
          "execution_count": 77
        }
      ]
    },
    {
      "cell_type": "code",
      "source": [
        "df_ml.nunique"
      ],
      "metadata": {
        "colab": {
          "base_uri": "https://localhost:8080/"
        },
        "id": "Mz-z0a5TlXmf",
        "outputId": "85396d8e-9110-452b-ec61-8a1aaf287a2f"
      },
      "execution_count": 78,
      "outputs": [
        {
          "output_type": "execute_result",
          "data": {
            "text/plain": [
              "<bound method DataFrame.nunique of                ra        dec         u         g         r         i  \\\n",
              "0       47.372545   0.820621  18.69254  17.13867  16.55555  16.34662   \n",
              "1      116.303083  42.455980  18.47633  17.30546  17.24116  17.32780   \n",
              "2      172.756623  -8.785698  16.47714  15.31072  15.55971  15.72207   \n",
              "3      201.224207  28.771290  18.63561  16.88346  16.09825  15.70987   \n",
              "4      212.817222  26.625225  18.88325  17.87948  17.47037  17.17441   \n",
              "...           ...        ...       ...       ...       ...       ...   \n",
              "99995  228.674917  19.179460  19.32631  18.82748  18.65659  18.60481   \n",
              "99996  173.757382  36.441603  18.33687  17.30365  17.16037  17.14895   \n",
              "99997  205.426531  38.499053  17.50690  15.63152  15.22328  15.04469   \n",
              "99998  337.135144  -9.635967  19.33946  17.21436  16.29697  15.86745   \n",
              "99999   37.440188  25.400888  18.11769  16.86279  16.31057  16.07582   \n",
              "\n",
              "              z   run  rerun  camcol  field   class  redshift  plate    mjd  \n",
              "0      16.17639  4849    301       5    771    STAR  0.000115   7255  56597  \n",
              "1      17.37114  6573    301       6    220    STAR -0.000093   8290  57364  \n",
              "2      15.82471  5973    301       1     13    STAR  0.000165   2861  54583  \n",
              "3      15.43491  4649    301       3    121  GALAXY  0.058155   2002  53471  \n",
              "4      17.05235  4649    301       3    191  GALAXY  0.072210   2123  53793  \n",
              "...         ...   ...    ...     ...    ...     ...       ...    ...    ...  \n",
              "99995  18.60917  5237    301       5    134     QSO  0.438182   3951  55681  \n",
              "99996  17.14419  4504    301       2    111    STAR -0.000497   2012  53493  \n",
              "99997  15.28668  4382    301       4     97  GALAXY  0.004587   2005  53472  \n",
              "99998  15.51556  2576    301       2    105  GALAXY  0.084538    721  52228  \n",
              "99999  15.94701  5817    301       5    120    STAR -0.000085   2379  53762  \n",
              "\n",
              "[100000 rows x 15 columns]>"
            ]
          },
          "metadata": {},
          "execution_count": 78
        }
      ]
    },
    {
      "cell_type": "code",
      "source": [
        "df_ml.value_counts()"
      ],
      "metadata": {
        "colab": {
          "base_uri": "https://localhost:8080/"
        },
        "id": "lDJ7Zfs1rxiE",
        "outputId": "9f3aaa4d-a4f3-42aa-df40-a08c8e325425"
      },
      "execution_count": 79,
      "outputs": [
        {
          "output_type": "execute_result",
          "data": {
            "text/plain": [
              "ra          dec         u         g         r         i         z         run   rerun  camcol  field  class   redshift   plate  mjd  \n",
              "0.013061    -2.430081   18.55528  17.32828  17.20341  17.18222  17.18046  6361  301    4       12     STAR    -0.000698  7850   56956    1\n",
              "210.524601   11.143029  18.02393  16.82644  16.23775  15.86136  15.66288  3836  301    3       408    GALAXY   0.071837  1703   53799    1\n",
              "210.589396   53.400181  18.44684  17.21241  16.71799  16.52839  16.47038  3180  301    6       50     STAR    -0.000507  1324   53088    1\n",
              "210.588759   59.418987  17.76804  16.70717  16.40376  16.19597  16.05955  2304  301    2       282    GALAXY   0.032084  787    52320    1\n",
              "210.588625   39.370110  18.40118  16.99566  16.35453  15.98127  15.72925  3893  301    3       305    GALAXY   0.063748  1378   53061    1\n",
              "                                                                                                                                        ..\n",
              "151.420955   55.148825  19.08355  18.16671  17.86367  17.74656  17.70234  2987  301    3       29     STAR    -0.000193  8187   57423    1\n",
              "151.420253   14.417816  19.42048  18.24532  18.24811  18.30349  18.36228  5972  301    3       239    STAR     0.000681  3248   54880    1\n",
              "151.418691   3.969979   19.25806  18.62478  18.44147  18.16599  18.19037  2126  301    3       215    GALAXY   0.094760  573    52325    1\n",
              "151.418212   13.996575  18.75917  17.73621  17.41453  17.16581  17.02720  5972  301    2       239    GALAXY   0.051636  2586   54169    1\n",
              "359.999615   3.268586   18.90408  18.89371  18.62695  18.65747  18.71252  7712  301    5       329    QSO      1.232962  8741   57390    1\n",
              "Length: 100000, dtype: int64"
            ]
          },
          "metadata": {},
          "execution_count": 79
        }
      ]
    },
    {
      "cell_type": "code",
      "source": [
        "df_ml['class'].value_counts()"
      ],
      "metadata": {
        "colab": {
          "base_uri": "https://localhost:8080/"
        },
        "id": "aIQyZvWKsAM2",
        "outputId": "5fbdf5b5-ae81-4fe5-cb26-b3e7d2b13d39"
      },
      "execution_count": 80,
      "outputs": [
        {
          "output_type": "execute_result",
          "data": {
            "text/plain": [
              "GALAXY    51323\n",
              "STAR      38096\n",
              "QSO       10581\n",
              "Name: class, dtype: int64"
            ]
          },
          "metadata": {},
          "execution_count": 80
        }
      ]
    },
    {
      "cell_type": "code",
      "source": [
        "df_ml = df_ml.replace({'class':{'GALAXY': '0','STAR': '1','QSO': '2'}})\n",
        "df_ml['class'].value_counts()"
      ],
      "metadata": {
        "colab": {
          "base_uri": "https://localhost:8080/"
        },
        "id": "g_bTXoc-sU6x",
        "outputId": "30c67969-c8fd-415a-87b7-7317bb87ae6b"
      },
      "execution_count": 81,
      "outputs": [
        {
          "output_type": "execute_result",
          "data": {
            "text/plain": [
              "0    51323\n",
              "1    38096\n",
              "2    10581\n",
              "Name: class, dtype: int64"
            ]
          },
          "metadata": {},
          "execution_count": 81
        }
      ]
    },
    {
      "cell_type": "code",
      "source": [
        "df_ml.describe()"
      ],
      "metadata": {
        "colab": {
          "base_uri": "https://localhost:8080/",
          "height": 364
        },
        "id": "4uz3EeXvtOUk",
        "outputId": "c4917a72-c341-4036-8f5e-9e8e1e86ea23"
      },
      "execution_count": 82,
      "outputs": [
        {
          "output_type": "execute_result",
          "data": {
            "text/plain": [
              "                  ra            dec              u              g  \\\n",
              "count  100000.000000  100000.000000  100000.000000  100000.000000   \n",
              "mean      177.512888      25.052056      18.637915      17.407128   \n",
              "std        78.039070      20.567259       0.832284       0.985921   \n",
              "min         0.013061     -19.495456      10.611810       9.668339   \n",
              "25%       136.356526       6.770380      18.212902      16.852982   \n",
              "50%       180.411688      23.918611      18.873250      17.515860   \n",
              "75%       224.369107      40.344539      19.273302      18.056060   \n",
              "max       359.999615      84.490494      19.599950      19.996050   \n",
              "\n",
              "                   r              i              z            run     rerun  \\\n",
              "count  100000.000000  100000.000000  100000.000000  100000.000000  100000.0   \n",
              "mean       16.881676      16.625534      16.467087    3978.727640     301.0   \n",
              "std         1.133337       1.209532       1.281788    1691.498597       0.0   \n",
              "min         9.005167       8.848403       8.947795     109.000000     301.0   \n",
              "25%        16.196607      15.865275      15.619960    2826.000000     301.0   \n",
              "50%        16.890640      16.599885      16.428385    3900.000000     301.0   \n",
              "75%        17.585750      17.344912      17.234625    5061.000000     301.0   \n",
              "max        31.990100      32.141470      29.383740    8162.000000     301.0   \n",
              "\n",
              "              camcol          field       redshift          plate  \\\n",
              "count  100000.000000  100000.000000  100000.000000  100000.000000   \n",
              "mean        3.274010     187.243080       0.170621    2587.984270   \n",
              "std         1.621208     141.037298       0.437571    2210.547391   \n",
              "min         1.000000      11.000000      -0.004136     266.000000   \n",
              "25%         2.000000      85.000000       0.000001    1186.000000   \n",
              "50%         3.000000     153.000000       0.045997    2091.000000   \n",
              "75%         5.000000     249.000000       0.095429    2910.000000   \n",
              "max         6.000000     982.000000       7.011245   11703.000000   \n",
              "\n",
              "                 mjd  \n",
              "count  100000.000000  \n",
              "mean    53913.908690  \n",
              "std      1547.244489  \n",
              "min     51608.000000  \n",
              "25%     52733.000000  \n",
              "50%     53726.000000  \n",
              "75%     54585.000000  \n",
              "max     58543.000000  "
            ],
            "text/html": [
              "\n",
              "  <div id=\"df-d77261dc-8263-441c-940b-3d0db502b5e8\">\n",
              "    <div class=\"colab-df-container\">\n",
              "      <div>\n",
              "<style scoped>\n",
              "    .dataframe tbody tr th:only-of-type {\n",
              "        vertical-align: middle;\n",
              "    }\n",
              "\n",
              "    .dataframe tbody tr th {\n",
              "        vertical-align: top;\n",
              "    }\n",
              "\n",
              "    .dataframe thead th {\n",
              "        text-align: right;\n",
              "    }\n",
              "</style>\n",
              "<table border=\"1\" class=\"dataframe\">\n",
              "  <thead>\n",
              "    <tr style=\"text-align: right;\">\n",
              "      <th></th>\n",
              "      <th>ra</th>\n",
              "      <th>dec</th>\n",
              "      <th>u</th>\n",
              "      <th>g</th>\n",
              "      <th>r</th>\n",
              "      <th>i</th>\n",
              "      <th>z</th>\n",
              "      <th>run</th>\n",
              "      <th>rerun</th>\n",
              "      <th>camcol</th>\n",
              "      <th>field</th>\n",
              "      <th>redshift</th>\n",
              "      <th>plate</th>\n",
              "      <th>mjd</th>\n",
              "    </tr>\n",
              "  </thead>\n",
              "  <tbody>\n",
              "    <tr>\n",
              "      <th>count</th>\n",
              "      <td>100000.000000</td>\n",
              "      <td>100000.000000</td>\n",
              "      <td>100000.000000</td>\n",
              "      <td>100000.000000</td>\n",
              "      <td>100000.000000</td>\n",
              "      <td>100000.000000</td>\n",
              "      <td>100000.000000</td>\n",
              "      <td>100000.000000</td>\n",
              "      <td>100000.0</td>\n",
              "      <td>100000.000000</td>\n",
              "      <td>100000.000000</td>\n",
              "      <td>100000.000000</td>\n",
              "      <td>100000.000000</td>\n",
              "      <td>100000.000000</td>\n",
              "    </tr>\n",
              "    <tr>\n",
              "      <th>mean</th>\n",
              "      <td>177.512888</td>\n",
              "      <td>25.052056</td>\n",
              "      <td>18.637915</td>\n",
              "      <td>17.407128</td>\n",
              "      <td>16.881676</td>\n",
              "      <td>16.625534</td>\n",
              "      <td>16.467087</td>\n",
              "      <td>3978.727640</td>\n",
              "      <td>301.0</td>\n",
              "      <td>3.274010</td>\n",
              "      <td>187.243080</td>\n",
              "      <td>0.170621</td>\n",
              "      <td>2587.984270</td>\n",
              "      <td>53913.908690</td>\n",
              "    </tr>\n",
              "    <tr>\n",
              "      <th>std</th>\n",
              "      <td>78.039070</td>\n",
              "      <td>20.567259</td>\n",
              "      <td>0.832284</td>\n",
              "      <td>0.985921</td>\n",
              "      <td>1.133337</td>\n",
              "      <td>1.209532</td>\n",
              "      <td>1.281788</td>\n",
              "      <td>1691.498597</td>\n",
              "      <td>0.0</td>\n",
              "      <td>1.621208</td>\n",
              "      <td>141.037298</td>\n",
              "      <td>0.437571</td>\n",
              "      <td>2210.547391</td>\n",
              "      <td>1547.244489</td>\n",
              "    </tr>\n",
              "    <tr>\n",
              "      <th>min</th>\n",
              "      <td>0.013061</td>\n",
              "      <td>-19.495456</td>\n",
              "      <td>10.611810</td>\n",
              "      <td>9.668339</td>\n",
              "      <td>9.005167</td>\n",
              "      <td>8.848403</td>\n",
              "      <td>8.947795</td>\n",
              "      <td>109.000000</td>\n",
              "      <td>301.0</td>\n",
              "      <td>1.000000</td>\n",
              "      <td>11.000000</td>\n",
              "      <td>-0.004136</td>\n",
              "      <td>266.000000</td>\n",
              "      <td>51608.000000</td>\n",
              "    </tr>\n",
              "    <tr>\n",
              "      <th>25%</th>\n",
              "      <td>136.356526</td>\n",
              "      <td>6.770380</td>\n",
              "      <td>18.212902</td>\n",
              "      <td>16.852982</td>\n",
              "      <td>16.196607</td>\n",
              "      <td>15.865275</td>\n",
              "      <td>15.619960</td>\n",
              "      <td>2826.000000</td>\n",
              "      <td>301.0</td>\n",
              "      <td>2.000000</td>\n",
              "      <td>85.000000</td>\n",
              "      <td>0.000001</td>\n",
              "      <td>1186.000000</td>\n",
              "      <td>52733.000000</td>\n",
              "    </tr>\n",
              "    <tr>\n",
              "      <th>50%</th>\n",
              "      <td>180.411688</td>\n",
              "      <td>23.918611</td>\n",
              "      <td>18.873250</td>\n",
              "      <td>17.515860</td>\n",
              "      <td>16.890640</td>\n",
              "      <td>16.599885</td>\n",
              "      <td>16.428385</td>\n",
              "      <td>3900.000000</td>\n",
              "      <td>301.0</td>\n",
              "      <td>3.000000</td>\n",
              "      <td>153.000000</td>\n",
              "      <td>0.045997</td>\n",
              "      <td>2091.000000</td>\n",
              "      <td>53726.000000</td>\n",
              "    </tr>\n",
              "    <tr>\n",
              "      <th>75%</th>\n",
              "      <td>224.369107</td>\n",
              "      <td>40.344539</td>\n",
              "      <td>19.273302</td>\n",
              "      <td>18.056060</td>\n",
              "      <td>17.585750</td>\n",
              "      <td>17.344912</td>\n",
              "      <td>17.234625</td>\n",
              "      <td>5061.000000</td>\n",
              "      <td>301.0</td>\n",
              "      <td>5.000000</td>\n",
              "      <td>249.000000</td>\n",
              "      <td>0.095429</td>\n",
              "      <td>2910.000000</td>\n",
              "      <td>54585.000000</td>\n",
              "    </tr>\n",
              "    <tr>\n",
              "      <th>max</th>\n",
              "      <td>359.999615</td>\n",
              "      <td>84.490494</td>\n",
              "      <td>19.599950</td>\n",
              "      <td>19.996050</td>\n",
              "      <td>31.990100</td>\n",
              "      <td>32.141470</td>\n",
              "      <td>29.383740</td>\n",
              "      <td>8162.000000</td>\n",
              "      <td>301.0</td>\n",
              "      <td>6.000000</td>\n",
              "      <td>982.000000</td>\n",
              "      <td>7.011245</td>\n",
              "      <td>11703.000000</td>\n",
              "      <td>58543.000000</td>\n",
              "    </tr>\n",
              "  </tbody>\n",
              "</table>\n",
              "</div>\n",
              "      <button class=\"colab-df-convert\" onclick=\"convertToInteractive('df-d77261dc-8263-441c-940b-3d0db502b5e8')\"\n",
              "              title=\"Convert this dataframe to an interactive table.\"\n",
              "              style=\"display:none;\">\n",
              "        \n",
              "  <svg xmlns=\"http://www.w3.org/2000/svg\" height=\"24px\"viewBox=\"0 0 24 24\"\n",
              "       width=\"24px\">\n",
              "    <path d=\"M0 0h24v24H0V0z\" fill=\"none\"/>\n",
              "    <path d=\"M18.56 5.44l.94 2.06.94-2.06 2.06-.94-2.06-.94-.94-2.06-.94 2.06-2.06.94zm-11 1L8.5 8.5l.94-2.06 2.06-.94-2.06-.94L8.5 2.5l-.94 2.06-2.06.94zm10 10l.94 2.06.94-2.06 2.06-.94-2.06-.94-.94-2.06-.94 2.06-2.06.94z\"/><path d=\"M17.41 7.96l-1.37-1.37c-.4-.4-.92-.59-1.43-.59-.52 0-1.04.2-1.43.59L10.3 9.45l-7.72 7.72c-.78.78-.78 2.05 0 2.83L4 21.41c.39.39.9.59 1.41.59.51 0 1.02-.2 1.41-.59l7.78-7.78 2.81-2.81c.8-.78.8-2.07 0-2.86zM5.41 20L4 18.59l7.72-7.72 1.47 1.35L5.41 20z\"/>\n",
              "  </svg>\n",
              "      </button>\n",
              "      \n",
              "  <style>\n",
              "    .colab-df-container {\n",
              "      display:flex;\n",
              "      flex-wrap:wrap;\n",
              "      gap: 12px;\n",
              "    }\n",
              "\n",
              "    .colab-df-convert {\n",
              "      background-color: #E8F0FE;\n",
              "      border: none;\n",
              "      border-radius: 50%;\n",
              "      cursor: pointer;\n",
              "      display: none;\n",
              "      fill: #1967D2;\n",
              "      height: 32px;\n",
              "      padding: 0 0 0 0;\n",
              "      width: 32px;\n",
              "    }\n",
              "\n",
              "    .colab-df-convert:hover {\n",
              "      background-color: #E2EBFA;\n",
              "      box-shadow: 0px 1px 2px rgba(60, 64, 67, 0.3), 0px 1px 3px 1px rgba(60, 64, 67, 0.15);\n",
              "      fill: #174EA6;\n",
              "    }\n",
              "\n",
              "    [theme=dark] .colab-df-convert {\n",
              "      background-color: #3B4455;\n",
              "      fill: #D2E3FC;\n",
              "    }\n",
              "\n",
              "    [theme=dark] .colab-df-convert:hover {\n",
              "      background-color: #434B5C;\n",
              "      box-shadow: 0px 1px 3px 1px rgba(0, 0, 0, 0.15);\n",
              "      filter: drop-shadow(0px 1px 2px rgba(0, 0, 0, 0.3));\n",
              "      fill: #FFFFFF;\n",
              "    }\n",
              "  </style>\n",
              "\n",
              "      <script>\n",
              "        const buttonEl =\n",
              "          document.querySelector('#df-d77261dc-8263-441c-940b-3d0db502b5e8 button.colab-df-convert');\n",
              "        buttonEl.style.display =\n",
              "          google.colab.kernel.accessAllowed ? 'block' : 'none';\n",
              "\n",
              "        async function convertToInteractive(key) {\n",
              "          const element = document.querySelector('#df-d77261dc-8263-441c-940b-3d0db502b5e8');\n",
              "          const dataTable =\n",
              "            await google.colab.kernel.invokeFunction('convertToInteractive',\n",
              "                                                     [key], {});\n",
              "          if (!dataTable) return;\n",
              "\n",
              "          const docLinkHtml = 'Like what you see? Visit the ' +\n",
              "            '<a target=\"_blank\" href=https://colab.research.google.com/notebooks/data_table.ipynb>data table notebook</a>'\n",
              "            + ' to learn more about interactive tables.';\n",
              "          element.innerHTML = '';\n",
              "          dataTable['output_type'] = 'display_data';\n",
              "          await google.colab.output.renderOutput(dataTable, element);\n",
              "          const docLink = document.createElement('div');\n",
              "          docLink.innerHTML = docLinkHtml;\n",
              "          element.appendChild(docLink);\n",
              "        }\n",
              "      </script>\n",
              "    </div>\n",
              "  </div>\n",
              "  "
            ]
          },
          "metadata": {},
          "execution_count": 82
        }
      ]
    },
    {
      "cell_type": "markdown",
      "source": [
        "## Explore the data"
      ],
      "metadata": {
        "id": "OTdwo9uDwCV0"
      }
    },
    {
      "cell_type": "code",
      "source": [
        "corr = df_ml.corr()\n",
        "sns.heatmap(corr, cmap = 'Oranges',annot = True);"
      ],
      "metadata": {
        "colab": {
          "base_uri": "https://localhost:8080/",
          "height": 298
        },
        "id": "UYp-yRrcJmXK",
        "outputId": "9159217d-8b3f-4ad5-9d65-fa74fc4cbd86"
      },
      "execution_count": 83,
      "outputs": [
        {
          "output_type": "display_data",
          "data": {
            "text/plain": [
              "<Figure size 432x288 with 2 Axes>"
            ],
            "image/png": "[encoded data removed]"
          },
          "metadata": {
            "needs_background": "light"
          }
        }
      ]
    },
    {
      "cell_type": "code",
      "source": [
        "sns.histplot(data=df_ml,x='class',color='yellow');"
      ],
      "metadata": {
        "colab": {
          "base_uri": "https://localhost:8080/",
          "height": 279
        },
        "id": "8qlIVA9_wI3d",
        "outputId": "fa99c3ae-7ae5-4b69-8f74-61b499e54c88"
      },
      "execution_count": 84,
      "outputs": [
        {
          "output_type": "display_data",
          "data": {
            "text/plain": [
              "<Figure size 432x288 with 1 Axes>"
            ],
            "image/png": "[encoded data removed]"
          },
          "metadata": {
            "needs_background": "light"
          }
        }
      ]
    },
    {
      "cell_type": "code",
      "source": [
        "sns.boxplot(data=df_ml,x='ra',color='orange');"
      ],
      "metadata": {
        "colab": {
          "base_uri": "https://localhost:8080/",
          "height": 279
        },
        "id": "9Bc_UXk6FeHK",
        "outputId": "50d0fd63-d251-402b-d544-d51f4ccf0733"
      },
      "execution_count": 85,
      "outputs": [
        {
          "output_type": "display_data",
          "data": {
            "text/plain": [
              "<Figure size 432x288 with 1 Axes>"
            ],
            "image/png": "[encoded data removed]"
          },
          "metadata": {
            "needs_background": "light"
          }
        }
      ]
    },
    {
      "cell_type": "code",
      "source": [
        "sns.boxplot(data=df_ml,x='dec',color='orange');"
      ],
      "metadata": {
        "colab": {
          "base_uri": "https://localhost:8080/",
          "height": 279
        },
        "id": "pFMcl4IXFvMq",
        "outputId": "253e8647-edba-4cce-ef48-18a5218c1250"
      },
      "execution_count": 86,
      "outputs": [
        {
          "output_type": "display_data",
          "data": {
            "text/plain": [
              "<Figure size 432x288 with 1 Axes>"
            ],
            "image/png": "[encoded data removed]"
          },
          "metadata": {
            "needs_background": "light"
          }
        }
      ]
    },
    {
      "cell_type": "code",
      "source": [
        "sns.boxplot(data=df_ml,x='u',color='orange');"
      ],
      "metadata": {
        "colab": {
          "base_uri": "https://localhost:8080/",
          "height": 279
        },
        "id": "yhj4F-UYF5YY",
        "outputId": "7c2710db-00cd-4f6e-84d0-dfc2fa35feb2"
      },
      "execution_count": 87,
      "outputs": [
        {
          "output_type": "display_data",
          "data": {
            "text/plain": [
              "<Figure size 432x288 with 1 Axes>"
            ],
            "image/png": "[encoded data removed]"
          },
          "metadata": {
            "needs_background": "light"
          }
        }
      ]
    },
    {
      "cell_type": "code",
      "source": [
        "sns.boxplot(data=df_ml,x='g',color='orange');"
      ],
      "metadata": {
        "colab": {
          "base_uri": "https://localhost:8080/",
          "height": 279
        },
        "id": "rg-e8u0PGJFX",
        "outputId": "ed6bbccf-b11b-425b-a5cd-152c24eb40f2"
      },
      "execution_count": 88,
      "outputs": [
        {
          "output_type": "display_data",
          "data": {
            "text/plain": [
              "<Figure size 432x288 with 1 Axes>"
            ],
            "image/png": "[encoded data removed]"
          },
          "metadata": {
            "needs_background": "light"
          }
        }
      ]
    },
    {
      "cell_type": "code",
      "source": [
        "sns.boxplot(data=df_ml,x='r',color='orange');"
      ],
      "metadata": {
        "colab": {
          "base_uri": "https://localhost:8080/",
          "height": 279
        },
        "id": "O5_Vv8OGGkm7",
        "outputId": "ce4f965c-8a73-49ad-c658-6adc08534e73"
      },
      "execution_count": 89,
      "outputs": [
        {
          "output_type": "display_data",
          "data": {
            "text/plain": [
              "<Figure size 432x288 with 1 Axes>"
            ],
            "image/png": "[encoded data removed]"
          },
          "metadata": {
            "needs_background": "light"
          }
        }
      ]
    },
    {
      "cell_type": "code",
      "source": [
        "sns.boxplot(data=df_ml,x='i',color='orange');"
      ],
      "metadata": {
        "colab": {
          "base_uri": "https://localhost:8080/",
          "height": 279
        },
        "id": "kAD81zw2Gznb",
        "outputId": "53e37d1d-84c3-4d4d-b757-826fbc963f4c"
      },
      "execution_count": 90,
      "outputs": [
        {
          "output_type": "display_data",
          "data": {
            "text/plain": [
              "<Figure size 432x288 with 1 Axes>"
            ],
            "image/png": "[encoded data removed]"
          },
          "metadata": {
            "needs_background": "light"
          }
        }
      ]
    },
    {
      "cell_type": "code",
      "source": [
        "sns.boxplot(data=df_ml,x='z',color='orange');"
      ],
      "metadata": {
        "colab": {
          "base_uri": "https://localhost:8080/",
          "height": 279
        },
        "id": "rBwMcFzelOMW",
        "outputId": "02a10bec-10b8-42c2-aed2-1312529a02a6"
      },
      "execution_count": 91,
      "outputs": [
        {
          "output_type": "display_data",
          "data": {
            "text/plain": [
              "<Figure size 432x288 with 1 Axes>"
            ],
            "image/png": "[encoded data removed]"
          },
          "metadata": {
            "needs_background": "light"
          }
        }
      ]
    },
    {
      "cell_type": "code",
      "source": [
        "sns.boxplot(data=df_ml,x='run',color='green');"
      ],
      "metadata": {
        "colab": {
          "base_uri": "https://localhost:8080/",
          "height": 279
        },
        "id": "N8yXIg_0n63q",
        "outputId": "0a987de4-2299-4bfa-9447-02b4f52c9e5d"
      },
      "execution_count": 92,
      "outputs": [
        {
          "output_type": "display_data",
          "data": {
            "text/plain": [
              "<Figure size 432x288 with 1 Axes>"
            ],
            "image/png": "[encoded data removed]"
          },
          "metadata": {
            "needs_background": "light"
          }
        }
      ]
    },
    {
      "cell_type": "code",
      "source": [
        "sns.boxplot(data=df_ml,x='rerun',color='green');"
      ],
      "metadata": {
        "colab": {
          "base_uri": "https://localhost:8080/",
          "height": 279
        },
        "id": "FL1iPCBEoDeM",
        "outputId": "efab8eb8-83fb-47c0-d6ab-1d1be248d33c"
      },
      "execution_count": 93,
      "outputs": [
        {
          "output_type": "display_data",
          "data": {
            "text/plain": [
              "<Figure size 432x288 with 1 Axes>"
            ],
            "image/png": "[encoded data removed]"
          },
          "metadata": {
            "needs_background": "light"
          }
        }
      ]
    },
    {
      "cell_type": "code",
      "source": [
        "sns.boxplot(data=df_ml,x='camcol',color='green');"
      ],
      "metadata": {
        "colab": {
          "base_uri": "https://localhost:8080/",
          "height": 279
        },
        "id": "VKdwvKVBFM-z",
        "outputId": "d200056b-ff8f-4e5d-9d10-da67900dce26"
      },
      "execution_count": 94,
      "outputs": [
        {
          "output_type": "display_data",
          "data": {
            "text/plain": [
              "<Figure size 432x288 with 1 Axes>"
            ],
            "image/png": "[encoded data removed]"
          },
          "metadata": {
            "needs_background": "light"
          }
        }
      ]
    },
    {
      "cell_type": "code",
      "source": [
        "sns.boxplot(data=df_ml,x='field',color='green');"
      ],
      "metadata": {
        "colab": {
          "base_uri": "https://localhost:8080/",
          "height": 279
        },
        "id": "IgGo6Ihyo1FZ",
        "outputId": "6f7a2994-6342-49df-8991-5d75e292fb8d"
      },
      "execution_count": 95,
      "outputs": [
        {
          "output_type": "display_data",
          "data": {
            "text/plain": [
              "<Figure size 432x288 with 1 Axes>"
            ],
            "image/png": "[encoded data removed]"
          },
          "metadata": {
            "needs_background": "light"
          }
        }
      ]
    },
    {
      "cell_type": "code",
      "source": [
        "sns.boxplot(data=df_ml,x='redshift',color='green');"
      ],
      "metadata": {
        "colab": {
          "base_uri": "https://localhost:8080/",
          "height": 279
        },
        "id": "tFd7vng7pRuB",
        "outputId": "7e7ef209-e240-47ca-ffc0-7d81c4a77e73"
      },
      "execution_count": 96,
      "outputs": [
        {
          "output_type": "display_data",
          "data": {
            "text/plain": [
              "<Figure size 432x288 with 1 Axes>"
            ],
            "image/png": "[encoded data removed]"
          },
          "metadata": {
            "needs_background": "light"
          }
        }
      ]
    },
    {
      "cell_type": "code",
      "source": [
        "sns.boxplot(data=df_ml,x='plate',color='green');"
      ],
      "metadata": {
        "colab": {
          "base_uri": "https://localhost:8080/",
          "height": 279
        },
        "id": "F33lclZJwpDa",
        "outputId": "158d8738-e30c-4ede-9297-3a1f699f0636"
      },
      "execution_count": 97,
      "outputs": [
        {
          "output_type": "display_data",
          "data": {
            "text/plain": [
              "<Figure size 432x288 with 1 Axes>"
            ],
            "image/png": "[encoded data removed]"
          },
          "metadata": {
            "needs_background": "light"
          }
        }
      ]
    },
    {
      "cell_type": "code",
      "source": [
        "sns.boxplot(data=df_ml,x='mjd',color='green');"
      ],
      "metadata": {
        "colab": {
          "base_uri": "https://localhost:8080/",
          "height": 279
        },
        "id": "HyDsUES6pjDR",
        "outputId": "fe94ff7b-ea3f-45bb-be9d-765ffc330355"
      },
      "execution_count": 98,
      "outputs": [
        {
          "output_type": "display_data",
          "data": {
            "text/plain": [
              "<Figure size 432x288 with 1 Axes>"
            ],
            "image/png": "[encoded data removed]"
          },
          "metadata": {
            "needs_background": "light"
          }
        }
      ]
    },
    {
      "cell_type": "code",
      "source": [
        "sns.boxplot(data=df_ml,x='mjd',color='green');"
      ],
      "metadata": {
        "colab": {
          "base_uri": "https://localhost:8080/",
          "height": 279
        },
        "id": "myRnBfjcqPUh",
        "outputId": "20203e90-51c9-4b28-d6d2-2f9994aa1ea1"
      },
      "execution_count": 99,
      "outputs": [
        {
          "output_type": "display_data",
          "data": {
            "text/plain": [
              "<Figure size 432x288 with 1 Axes>"
            ],
            "image/png": "[encoded data removed]"
          },
          "metadata": {
            "needs_background": "light"
          }
        }
      ]
    }
  ]
}