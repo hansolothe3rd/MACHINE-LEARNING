{
  "nbformat": 4,
  "nbformat_minor": 0,
  "metadata": {
    "colab": {
      "provenance": [],
      "mount_file_id": "10C9GPiPGs09npFE60S1LMOhaYNUeQZoM",
      "authorship_tag": "ABX9TyNv6c0bhvbHBR0C9ljjxR+B",
      "include_colab_link": true
    },
    "kernelspec": {
      "name": "python3",
      "display_name": "Python 3"
    },
    "language_info": {
      "name": "python"
    }
  },
  "cells": [
    {
      "cell_type": "markdown",
      "metadata": {
        "id": "view-in-github",
        "colab_type": "text"
      },
      "source": [
        "<a href=\"https://colab.research.google.com/github/hansolothe3rd/MACHINE-LEARNING/blob/main/Sloan_Digital_Sky_Survey_DR16_Exploration_P4.ipynb\" target=\"_parent\"><img src=\"https://colab.research.google.com/assets/colab-badge.svg\" alt=\"Open In Colab\"/></a>"
      ]
    },
    {
      "cell_type": "markdown",
      "source": [
        "# Sloan Digital Sky Survey DR16 Exploration\n",
        "- Daniel Barella\n",
        "- 01/08/23"
      ],
      "metadata": {
        "id": "oyzpWpDPPWO3"
      }
    },
    {
      "cell_type": "markdown",
      "source": [
        "## Assignment:\n",
        "\n",
        "- Ensure that you complete the appropriate pre-processing steps.\n",
        "- Try multiple models and tune the hyperparameters of each model to optimize model performance (include all models and hyperparameters tested in addition to the final model).\n",
        "- Perform PCA or another feature engineering technique on your dataset to see how this impacts your results. (We encourage you to try multiple techniques depending on your data!).\n",
        "- Evaluate model performance with appropriate metrics for the model.\n",
        "- Choose your \"production\" model and justify this decision.\n"
      ],
      "metadata": {
        "id": "3hb_y8HPSD92"
      }
    },
    {
      "cell_type": "markdown",
      "source": [
        "\n",
        "Source of data\n",
        "- https://www.kaggle.com/datasets/muhakabartay/sloan-digital-sky-survey-dr16"
      ],
      "metadata": {
        "id": "7I9gQc_ql3B2"
      }
    },
    {
      "cell_type": "markdown",
      "source": [
        "License: \n",
        "- Creative Commons Attribution license ([CC-BY](https://creativecommons.org/licenses/by-sa/4.0/))"
      ],
      "metadata": {
        "id": "_xv_WV3Tl8a1"
      }
    },
    {
      "cell_type": "markdown",
      "source": [
        "## Content\n",
        "The table results from a query which joins two tables:\n",
        "\n",
        "- \"PhotoObj\" which contains photometric data\n",
        "- \"SpecObj\" which contains spectral data.\n",
        "16 variables (double) and 1 additional variable (char) 'class'.\n",
        "A class object can be predicted from the other 16 variables.\n",
        "\n",
        "Variables description:\n",
        "- objid = Object Identifier\n",
        "- ra = J2000 Right Ascension (r-band)\n",
        "- dec = J2000 Declination (r-band)\n",
        "- u = better of deV/Exp magnitude fit (u-band)\n",
        "- g = better of deV/Exp magnitude fit (g-band)\n",
        "- r = better of deV/Exp magnitude fit (r-band)\n",
        "- i = better of deV/Exp magnitude fit (i-band)\n",
        "- z = better of deV/Exp magnitude fit (z-band)\n",
        "- run = Run Number\n",
        "- rerun = Rerun Number\n",
        "- camcol = Camera column\n",
        "- field = Field number\n",
        "- specobjid = Object Identifier\n",
        "- class = object class (galaxy, star or quasar object)\n",
        "- redshift = Final Redshift\n",
        "- plate = plate number\n",
        "- mjd = MJD of observation\n",
        "- fiberid = fiberID"
      ],
      "metadata": {
        "id": "g0phjifWjMLf"
      }
    },
    {
      "cell_type": "code",
      "execution_count": 1,
      "metadata": {
        "id": "yL2O5FsBN2nE"
      },
      "outputs": [],
      "source": [
        "import pandas as pd\n",
        "import seaborn as sns\n",
        "import matplotlib.pyplot as plt\n",
        "import matplotlib as mpl\n",
        "import matplotlib.pyplot as plt\n",
        "from seaborn import heatmap\n",
        "from sklearn.ensemble import RandomForestClassifier\n",
        "from sklearn.decomposition import PCA\n",
        "from sklearn.preprocessing import StandardScaler, LabelEncoder\n",
        "from sklearn.model_selection import train_test_split, GridSearchCV\n",
        "from sklearn.pipeline import make_pipeline\n",
        "from sklearn.neighbors import KNeighborsClassifier\n",
        "from sklearn.metrics import precision_score, recall_score, accuracy_score, \\\n",
        "f1_score, ConfusionMatrixDisplay, classification_report"
      ]
    },
    {
      "cell_type": "code",
      "source": [
        "df = pd.read_csv('/content/Skyserver_12_30_2019 4_49_58 PM.csv')\n",
        "df.head()"
      ],
      "metadata": {
        "colab": {
          "base_uri": "https://localhost:8080/",
          "height": 270
        },
        "id": "ldd5jd75ZFfB",
        "outputId": "afbc470c-61aa-4d16-f728-d905b7e36211"
      },
      "execution_count": 2,
      "outputs": [
        {
          "output_type": "execute_result",
          "data": {
            "text/plain": [
              "                 objid          ra        dec         u         g         r  \\\n",
              "0  1237666301628060000   47.372545   0.820621  18.69254  17.13867  16.55555   \n",
              "1  1237673706652430000  116.303083  42.455980  18.47633  17.30546  17.24116   \n",
              "2  1237671126974140000  172.756623  -8.785698  16.47714  15.31072  15.55971   \n",
              "3  1237665441518260000  201.224207  28.771290  18.63561  16.88346  16.09825   \n",
              "4  1237665441522840000  212.817222  26.625225  18.88325  17.87948  17.47037   \n",
              "\n",
              "          i         z   run  rerun  camcol  field            specobjid  \\\n",
              "0  16.34662  16.17639  4849    301       5    771  8168632633242440000   \n",
              "1  17.32780  17.37114  6573    301       6    220  9333948945297330000   \n",
              "2  15.72207  15.82471  5973    301       1     13  3221211255238850000   \n",
              "3  15.70987  15.43491  4649    301       3    121  2254061292459420000   \n",
              "4  17.17441  17.05235  4649    301       3    191  2390305906828010000   \n",
              "\n",
              "    class  redshift  plate    mjd  fiberid  \n",
              "0    STAR  0.000115   7255  56597      832  \n",
              "1    STAR -0.000093   8290  57364      868  \n",
              "2    STAR  0.000165   2861  54583       42  \n",
              "3  GALAXY  0.058155   2002  53471       35  \n",
              "4  GALAXY  0.072210   2123  53793       74  "
            ],
            "text/html": [
              "\n",
              "  <div id=\"df-28b9977f-57d3-4a1f-8f87-2bada78d284b\">\n",
              "    <div class=\"colab-df-container\">\n",
              "      <div>\n",
              "<style scoped>\n",
              "    .dataframe tbody tr th:only-of-type {\n",
              "        vertical-align: middle;\n",
              "    }\n",
              "\n",
              "    .dataframe tbody tr th {\n",
              "        vertical-align: top;\n",
              "    }\n",
              "\n",
              "    .dataframe thead th {\n",
              "        text-align: right;\n",
              "    }\n",
              "</style>\n",
              "<table border=\"1\" class=\"dataframe\">\n",
              "  <thead>\n",
              "    <tr style=\"text-align: right;\">\n",
              "      <th></th>\n",
              "      <th>objid</th>\n",
              "      <th>ra</th>\n",
              "      <th>dec</th>\n",
              "      <th>u</th>\n",
              "      <th>g</th>\n",
              "      <th>r</th>\n",
              "      <th>i</th>\n",
              "      <th>z</th>\n",
              "      <th>run</th>\n",
              "      <th>rerun</th>\n",
              "      <th>camcol</th>\n",
              "      <th>field</th>\n",
              "      <th>specobjid</th>\n",
              "      <th>class</th>\n",
              "      <th>redshift</th>\n",
              "      <th>plate</th>\n",
              "      <th>mjd</th>\n",
              "      <th>fiberid</th>\n",
              "    </tr>\n",
              "  </thead>\n",
              "  <tbody>\n",
              "    <tr>\n",
              "      <th>0</th>\n",
              "      <td>1237666301628060000</td>\n",
              "      <td>47.372545</td>\n",
              "      <td>0.820621</td>\n",
              "      <td>18.69254</td>\n",
              "      <td>17.13867</td>\n",
              "      <td>16.55555</td>\n",
              "      <td>16.34662</td>\n",
              "      <td>16.17639</td>\n",
              "      <td>4849</td>\n",
              "      <td>301</td>\n",
              "      <td>5</td>\n",
              "      <td>771</td>\n",
              "      <td>8168632633242440000</td>\n",
              "      <td>STAR</td>\n",
              "      <td>0.000115</td>\n",
              "      <td>7255</td>\n",
              "      <td>56597</td>\n",
              "      <td>832</td>\n",
              "    </tr>\n",
              "    <tr>\n",
              "      <th>1</th>\n",
              "      <td>1237673706652430000</td>\n",
              "      <td>116.303083</td>\n",
              "      <td>42.455980</td>\n",
              "      <td>18.47633</td>\n",
              "      <td>17.30546</td>\n",
              "      <td>17.24116</td>\n",
              "      <td>17.32780</td>\n",
              "      <td>17.37114</td>\n",
              "      <td>6573</td>\n",
              "      <td>301</td>\n",
              "      <td>6</td>\n",
              "      <td>220</td>\n",
              "      <td>9333948945297330000</td>\n",
              "      <td>STAR</td>\n",
              "      <td>-0.000093</td>\n",
              "      <td>8290</td>\n",
              "      <td>57364</td>\n",
              "      <td>868</td>\n",
              "    </tr>\n",
              "    <tr>\n",
              "      <th>2</th>\n",
              "      <td>1237671126974140000</td>\n",
              "      <td>172.756623</td>\n",
              "      <td>-8.785698</td>\n",
              "      <td>16.47714</td>\n",
              "      <td>15.31072</td>\n",
              "      <td>15.55971</td>\n",
              "      <td>15.72207</td>\n",
              "      <td>15.82471</td>\n",
              "      <td>5973</td>\n",
              "      <td>301</td>\n",
              "      <td>1</td>\n",
              "      <td>13</td>\n",
              "      <td>3221211255238850000</td>\n",
              "      <td>STAR</td>\n",
              "      <td>0.000165</td>\n",
              "      <td>2861</td>\n",
              "      <td>54583</td>\n",
              "      <td>42</td>\n",
              "    </tr>\n",
              "    <tr>\n",
              "      <th>3</th>\n",
              "      <td>1237665441518260000</td>\n",
              "      <td>201.224207</td>\n",
              "      <td>28.771290</td>\n",
              "      <td>18.63561</td>\n",
              "      <td>16.88346</td>\n",
              "      <td>16.09825</td>\n",
              "      <td>15.70987</td>\n",
              "      <td>15.43491</td>\n",
              "      <td>4649</td>\n",
              "      <td>301</td>\n",
              "      <td>3</td>\n",
              "      <td>121</td>\n",
              "      <td>2254061292459420000</td>\n",
              "      <td>GALAXY</td>\n",
              "      <td>0.058155</td>\n",
              "      <td>2002</td>\n",
              "      <td>53471</td>\n",
              "      <td>35</td>\n",
              "    </tr>\n",
              "    <tr>\n",
              "      <th>4</th>\n",
              "      <td>1237665441522840000</td>\n",
              "      <td>212.817222</td>\n",
              "      <td>26.625225</td>\n",
              "      <td>18.88325</td>\n",
              "      <td>17.87948</td>\n",
              "      <td>17.47037</td>\n",
              "      <td>17.17441</td>\n",
              "      <td>17.05235</td>\n",
              "      <td>4649</td>\n",
              "      <td>301</td>\n",
              "      <td>3</td>\n",
              "      <td>191</td>\n",
              "      <td>2390305906828010000</td>\n",
              "      <td>GALAXY</td>\n",
              "      <td>0.072210</td>\n",
              "      <td>2123</td>\n",
              "      <td>53793</td>\n",
              "      <td>74</td>\n",
              "    </tr>\n",
              "  </tbody>\n",
              "</table>\n",
              "</div>\n",
              "      <button class=\"colab-df-convert\" onclick=\"convertToInteractive('df-28b9977f-57d3-4a1f-8f87-2bada78d284b')\"\n",
              "              title=\"Convert this dataframe to an interactive table.\"\n",
              "              style=\"display:none;\">\n",
              "        \n",
              "  <svg xmlns=\"http://www.w3.org/2000/svg\" height=\"24px\"viewBox=\"0 0 24 24\"\n",
              "       width=\"24px\">\n",
              "    <path d=\"M0 0h24v24H0V0z\" fill=\"none\"/>\n",
              "    <path d=\"M18.56 5.44l.94 2.06.94-2.06 2.06-.94-2.06-.94-.94-2.06-.94 2.06-2.06.94zm-11 1L8.5 8.5l.94-2.06 2.06-.94-2.06-.94L8.5 2.5l-.94 2.06-2.06.94zm10 10l.94 2.06.94-2.06 2.06-.94-2.06-.94-.94-2.06-.94 2.06-2.06.94z\"/><path d=\"M17.41 7.96l-1.37-1.37c-.4-.4-.92-.59-1.43-.59-.52 0-1.04.2-1.43.59L10.3 9.45l-7.72 7.72c-.78.78-.78 2.05 0 2.83L4 21.41c.39.39.9.59 1.41.59.51 0 1.02-.2 1.41-.59l7.78-7.78 2.81-2.81c.8-.78.8-2.07 0-2.86zM5.41 20L4 18.59l7.72-7.72 1.47 1.35L5.41 20z\"/>\n",
              "  </svg>\n",
              "      </button>\n",
              "      \n",
              "  <style>\n",
              "    .colab-df-container {\n",
              "      display:flex;\n",
              "      flex-wrap:wrap;\n",
              "      gap: 12px;\n",
              "    }\n",
              "\n",
              "    .colab-df-convert {\n",
              "      background-color: #E8F0FE;\n",
              "      border: none;\n",
              "      border-radius: 50%;\n",
              "      cursor: pointer;\n",
              "      display: none;\n",
              "      fill: #1967D2;\n",
              "      height: 32px;\n",
              "      padding: 0 0 0 0;\n",
              "      width: 32px;\n",
              "    }\n",
              "\n",
              "    .colab-df-convert:hover {\n",
              "      background-color: #E2EBFA;\n",
              "      box-shadow: 0px 1px 2px rgba(60, 64, 67, 0.3), 0px 1px 3px 1px rgba(60, 64, 67, 0.15);\n",
              "      fill: #174EA6;\n",
              "    }\n",
              "\n",
              "    [theme=dark] .colab-df-convert {\n",
              "      background-color: #3B4455;\n",
              "      fill: #D2E3FC;\n",
              "    }\n",
              "\n",
              "    [theme=dark] .colab-df-convert:hover {\n",
              "      background-color: #434B5C;\n",
              "      box-shadow: 0px 1px 3px 1px rgba(0, 0, 0, 0.15);\n",
              "      filter: drop-shadow(0px 1px 2px rgba(0, 0, 0, 0.3));\n",
              "      fill: #FFFFFF;\n",
              "    }\n",
              "  </style>\n",
              "\n",
              "      <script>\n",
              "        const buttonEl =\n",
              "          document.querySelector('#df-28b9977f-57d3-4a1f-8f87-2bada78d284b button.colab-df-convert');\n",
              "        buttonEl.style.display =\n",
              "          google.colab.kernel.accessAllowed ? 'block' : 'none';\n",
              "\n",
              "        async function convertToInteractive(key) {\n",
              "          const element = document.querySelector('#df-28b9977f-57d3-4a1f-8f87-2bada78d284b');\n",
              "          const dataTable =\n",
              "            await google.colab.kernel.invokeFunction('convertToInteractive',\n",
              "                                                     [key], {});\n",
              "          if (!dataTable) return;\n",
              "\n",
              "          const docLinkHtml = 'Like what you see? Visit the ' +\n",
              "            '<a target=\"_blank\" href=https://colab.research.google.com/notebooks/data_table.ipynb>data table notebook</a>'\n",
              "            + ' to learn more about interactive tables.';\n",
              "          element.innerHTML = '';\n",
              "          dataTable['output_type'] = 'display_data';\n",
              "          await google.colab.output.renderOutput(dataTable, element);\n",
              "          const docLink = document.createElement('div');\n",
              "          docLink.innerHTML = docLinkHtml;\n",
              "          element.appendChild(docLink);\n",
              "        }\n",
              "      </script>\n",
              "    </div>\n",
              "  </div>\n",
              "  "
            ]
          },
          "metadata": {},
          "execution_count": 2
        }
      ]
    },
    {
      "cell_type": "code",
      "source": [
        "df_ml = df.copy()\n",
        "df_ml = df_ml.drop(['objid', 'specobjid', 'fiberid', 'rerun'], axis=1)\n",
        "df_ml.head()"
      ],
      "metadata": {
        "colab": {
          "base_uri": "https://localhost:8080/",
          "height": 206
        },
        "id": "p1JaiOPMZksp",
        "outputId": "9e7af49f-323c-4014-c3ce-5f6c6f173090"
      },
      "execution_count": 3,
      "outputs": [
        {
          "output_type": "execute_result",
          "data": {
            "text/plain": [
              "           ra        dec         u         g         r         i         z  \\\n",
              "0   47.372545   0.820621  18.69254  17.13867  16.55555  16.34662  16.17639   \n",
              "1  116.303083  42.455980  18.47633  17.30546  17.24116  17.32780  17.37114   \n",
              "2  172.756623  -8.785698  16.47714  15.31072  15.55971  15.72207  15.82471   \n",
              "3  201.224207  28.771290  18.63561  16.88346  16.09825  15.70987  15.43491   \n",
              "4  212.817222  26.625225  18.88325  17.87948  17.47037  17.17441  17.05235   \n",
              "\n",
              "    run  camcol  field   class  redshift  plate    mjd  \n",
              "0  4849       5    771    STAR  0.000115   7255  56597  \n",
              "1  6573       6    220    STAR -0.000093   8290  57364  \n",
              "2  5973       1     13    STAR  0.000165   2861  54583  \n",
              "3  4649       3    121  GALAXY  0.058155   2002  53471  \n",
              "4  4649       3    191  GALAXY  0.072210   2123  53793  "
            ],
            "text/html": [
              "\n",
              "  <div id=\"df-7f1ac24b-5f5f-4914-a5de-01636d5bdf5a\">\n",
              "    <div class=\"colab-df-container\">\n",
              "      <div>\n",
              "<style scoped>\n",
              "    .dataframe tbody tr th:only-of-type {\n",
              "        vertical-align: middle;\n",
              "    }\n",
              "\n",
              "    .dataframe tbody tr th {\n",
              "        vertical-align: top;\n",
              "    }\n",
              "\n",
              "    .dataframe thead th {\n",
              "        text-align: right;\n",
              "    }\n",
              "</style>\n",
              "<table border=\"1\" class=\"dataframe\">\n",
              "  <thead>\n",
              "    <tr style=\"text-align: right;\">\n",
              "      <th></th>\n",
              "      <th>ra</th>\n",
              "      <th>dec</th>\n",
              "      <th>u</th>\n",
              "      <th>g</th>\n",
              "      <th>r</th>\n",
              "      <th>i</th>\n",
              "      <th>z</th>\n",
              "      <th>run</th>\n",
              "      <th>camcol</th>\n",
              "      <th>field</th>\n",
              "      <th>class</th>\n",
              "      <th>redshift</th>\n",
              "      <th>plate</th>\n",
              "      <th>mjd</th>\n",
              "    </tr>\n",
              "  </thead>\n",
              "  <tbody>\n",
              "    <tr>\n",
              "      <th>0</th>\n",
              "      <td>47.372545</td>\n",
              "      <td>0.820621</td>\n",
              "      <td>18.69254</td>\n",
              "      <td>17.13867</td>\n",
              "      <td>16.55555</td>\n",
              "      <td>16.34662</td>\n",
              "      <td>16.17639</td>\n",
              "      <td>4849</td>\n",
              "      <td>5</td>\n",
              "      <td>771</td>\n",
              "      <td>STAR</td>\n",
              "      <td>0.000115</td>\n",
              "      <td>7255</td>\n",
              "      <td>56597</td>\n",
              "    </tr>\n",
              "    <tr>\n",
              "      <th>1</th>\n",
              "      <td>116.303083</td>\n",
              "      <td>42.455980</td>\n",
              "      <td>18.47633</td>\n",
              "      <td>17.30546</td>\n",
              "      <td>17.24116</td>\n",
              "      <td>17.32780</td>\n",
              "      <td>17.37114</td>\n",
              "      <td>6573</td>\n",
              "      <td>6</td>\n",
              "      <td>220</td>\n",
              "      <td>STAR</td>\n",
              "      <td>-0.000093</td>\n",
              "      <td>8290</td>\n",
              "      <td>57364</td>\n",
              "    </tr>\n",
              "    <tr>\n",
              "      <th>2</th>\n",
              "      <td>172.756623</td>\n",
              "      <td>-8.785698</td>\n",
              "      <td>16.47714</td>\n",
              "      <td>15.31072</td>\n",
              "      <td>15.55971</td>\n",
              "      <td>15.72207</td>\n",
              "      <td>15.82471</td>\n",
              "      <td>5973</td>\n",
              "      <td>1</td>\n",
              "      <td>13</td>\n",
              "      <td>STAR</td>\n",
              "      <td>0.000165</td>\n",
              "      <td>2861</td>\n",
              "      <td>54583</td>\n",
              "    </tr>\n",
              "    <tr>\n",
              "      <th>3</th>\n",
              "      <td>201.224207</td>\n",
              "      <td>28.771290</td>\n",
              "      <td>18.63561</td>\n",
              "      <td>16.88346</td>\n",
              "      <td>16.09825</td>\n",
              "      <td>15.70987</td>\n",
              "      <td>15.43491</td>\n",
              "      <td>4649</td>\n",
              "      <td>3</td>\n",
              "      <td>121</td>\n",
              "      <td>GALAXY</td>\n",
              "      <td>0.058155</td>\n",
              "      <td>2002</td>\n",
              "      <td>53471</td>\n",
              "    </tr>\n",
              "    <tr>\n",
              "      <th>4</th>\n",
              "      <td>212.817222</td>\n",
              "      <td>26.625225</td>\n",
              "      <td>18.88325</td>\n",
              "      <td>17.87948</td>\n",
              "      <td>17.47037</td>\n",
              "      <td>17.17441</td>\n",
              "      <td>17.05235</td>\n",
              "      <td>4649</td>\n",
              "      <td>3</td>\n",
              "      <td>191</td>\n",
              "      <td>GALAXY</td>\n",
              "      <td>0.072210</td>\n",
              "      <td>2123</td>\n",
              "      <td>53793</td>\n",
              "    </tr>\n",
              "  </tbody>\n",
              "</table>\n",
              "</div>\n",
              "      <button class=\"colab-df-convert\" onclick=\"convertToInteractive('df-7f1ac24b-5f5f-4914-a5de-01636d5bdf5a')\"\n",
              "              title=\"Convert this dataframe to an interactive table.\"\n",
              "              style=\"display:none;\">\n",
              "        \n",
              "  <svg xmlns=\"http://www.w3.org/2000/svg\" height=\"24px\"viewBox=\"0 0 24 24\"\n",
              "       width=\"24px\">\n",
              "    <path d=\"M0 0h24v24H0V0z\" fill=\"none\"/>\n",
              "    <path d=\"M18.56 5.44l.94 2.06.94-2.06 2.06-.94-2.06-.94-.94-2.06-.94 2.06-2.06.94zm-11 1L8.5 8.5l.94-2.06 2.06-.94-2.06-.94L8.5 2.5l-.94 2.06-2.06.94zm10 10l.94 2.06.94-2.06 2.06-.94-2.06-.94-.94-2.06-.94 2.06-2.06.94z\"/><path d=\"M17.41 7.96l-1.37-1.37c-.4-.4-.92-.59-1.43-.59-.52 0-1.04.2-1.43.59L10.3 9.45l-7.72 7.72c-.78.78-.78 2.05 0 2.83L4 21.41c.39.39.9.59 1.41.59.51 0 1.02-.2 1.41-.59l7.78-7.78 2.81-2.81c.8-.78.8-2.07 0-2.86zM5.41 20L4 18.59l7.72-7.72 1.47 1.35L5.41 20z\"/>\n",
              "  </svg>\n",
              "      </button>\n",
              "      \n",
              "  <style>\n",
              "    .colab-df-container {\n",
              "      display:flex;\n",
              "      flex-wrap:wrap;\n",
              "      gap: 12px;\n",
              "    }\n",
              "\n",
              "    .colab-df-convert {\n",
              "      background-color: #E8F0FE;\n",
              "      border: none;\n",
              "      border-radius: 50%;\n",
              "      cursor: pointer;\n",
              "      display: none;\n",
              "      fill: #1967D2;\n",
              "      height: 32px;\n",
              "      padding: 0 0 0 0;\n",
              "      width: 32px;\n",
              "    }\n",
              "\n",
              "    .colab-df-convert:hover {\n",
              "      background-color: #E2EBFA;\n",
              "      box-shadow: 0px 1px 2px rgba(60, 64, 67, 0.3), 0px 1px 3px 1px rgba(60, 64, 67, 0.15);\n",
              "      fill: #174EA6;\n",
              "    }\n",
              "\n",
              "    [theme=dark] .colab-df-convert {\n",
              "      background-color: #3B4455;\n",
              "      fill: #D2E3FC;\n",
              "    }\n",
              "\n",
              "    [theme=dark] .colab-df-convert:hover {\n",
              "      background-color: #434B5C;\n",
              "      box-shadow: 0px 1px 3px 1px rgba(0, 0, 0, 0.15);\n",
              "      filter: drop-shadow(0px 1px 2px rgba(0, 0, 0, 0.3));\n",
              "      fill: #FFFFFF;\n",
              "    }\n",
              "  </style>\n",
              "\n",
              "      <script>\n",
              "        const buttonEl =\n",
              "          document.querySelector('#df-7f1ac24b-5f5f-4914-a5de-01636d5bdf5a button.colab-df-convert');\n",
              "        buttonEl.style.display =\n",
              "          google.colab.kernel.accessAllowed ? 'block' : 'none';\n",
              "\n",
              "        async function convertToInteractive(key) {\n",
              "          const element = document.querySelector('#df-7f1ac24b-5f5f-4914-a5de-01636d5bdf5a');\n",
              "          const dataTable =\n",
              "            await google.colab.kernel.invokeFunction('convertToInteractive',\n",
              "                                                     [key], {});\n",
              "          if (!dataTable) return;\n",
              "\n",
              "          const docLinkHtml = 'Like what you see? Visit the ' +\n",
              "            '<a target=\"_blank\" href=https://colab.research.google.com/notebooks/data_table.ipynb>data table notebook</a>'\n",
              "            + ' to learn more about interactive tables.';\n",
              "          element.innerHTML = '';\n",
              "          dataTable['output_type'] = 'display_data';\n",
              "          await google.colab.output.renderOutput(dataTable, element);\n",
              "          const docLink = document.createElement('div');\n",
              "          docLink.innerHTML = docLinkHtml;\n",
              "          element.appendChild(docLink);\n",
              "        }\n",
              "      </script>\n",
              "    </div>\n",
              "  </div>\n",
              "  "
            ]
          },
          "metadata": {},
          "execution_count": 3
        }
      ]
    },
    {
      "cell_type": "markdown",
      "source": [
        "- Dropping the id columns here will allow for better ML."
      ],
      "metadata": {
        "id": "WhHxwkGko56k"
      }
    },
    {
      "cell_type": "markdown",
      "source": [
        "## Prepare/clean the data."
      ],
      "metadata": {
        "id": "tYj7HNlxg97E"
      }
    },
    {
      "cell_type": "markdown",
      "source": [
        "How many rows and columns?\n"
      ],
      "metadata": {
        "id": "5DMa37SlhX9v"
      }
    },
    {
      "cell_type": "code",
      "source": [
        "df_ml.shape"
      ],
      "metadata": {
        "colab": {
          "base_uri": "https://localhost:8080/"
        },
        "id": "LGFWs3TggleO",
        "outputId": "611305cf-11c2-42cd-e9a5-c37b4ad699fc"
      },
      "execution_count": 4,
      "outputs": [
        {
          "output_type": "execute_result",
          "data": {
            "text/plain": [
              "(100000, 14)"
            ]
          },
          "metadata": {},
          "execution_count": 4
        }
      ]
    },
    {
      "cell_type": "markdown",
      "source": [
        "What are the datatypes of each variable?"
      ],
      "metadata": {
        "id": "Y056s3b8hnMA"
      }
    },
    {
      "cell_type": "code",
      "source": [
        "df_ml.info()"
      ],
      "metadata": {
        "colab": {
          "base_uri": "https://localhost:8080/"
        },
        "id": "lwRwEzJrhdrk",
        "outputId": "e31908b6-c935-4895-c73c-e46293eb0534"
      },
      "execution_count": 5,
      "outputs": [
        {
          "output_type": "stream",
          "name": "stdout",
          "text": [
            "<class 'pandas.core.frame.DataFrame'>\n",
            "RangeIndex: 100000 entries, 0 to 99999\n",
            "Data columns (total 14 columns):\n",
            " #   Column    Non-Null Count   Dtype  \n",
            "---  ------    --------------   -----  \n",
            " 0   ra        100000 non-null  float64\n",
            " 1   dec       100000 non-null  float64\n",
            " 2   u         100000 non-null  float64\n",
            " 3   g         100000 non-null  float64\n",
            " 4   r         100000 non-null  float64\n",
            " 5   i         100000 non-null  float64\n",
            " 6   z         100000 non-null  float64\n",
            " 7   run       100000 non-null  int64  \n",
            " 8   camcol    100000 non-null  int64  \n",
            " 9   field     100000 non-null  int64  \n",
            " 10  class     100000 non-null  object \n",
            " 11  redshift  100000 non-null  float64\n",
            " 12  plate     100000 non-null  int64  \n",
            " 13  mjd       100000 non-null  int64  \n",
            "dtypes: float64(8), int64(5), object(1)\n",
            "memory usage: 10.7+ MB\n"
          ]
        }
      ]
    },
    {
      "cell_type": "markdown",
      "source": [
        "Are there duplicates? If so, drop any duplicates."
      ],
      "metadata": {
        "id": "k11tFCPYlUF-"
      }
    },
    {
      "cell_type": "code",
      "source": [
        "df_ml.duplicated().sum()"
      ],
      "metadata": {
        "colab": {
          "base_uri": "https://localhost:8080/"
        },
        "id": "4WdoLPOTlXN9",
        "outputId": "c857e4ac-1380-4854-f34d-19190cfb1cab"
      },
      "execution_count": 6,
      "outputs": [
        {
          "output_type": "execute_result",
          "data": {
            "text/plain": [
              "0"
            ]
          },
          "metadata": {},
          "execution_count": 6
        }
      ]
    },
    {
      "cell_type": "markdown",
      "source": [
        "Identify missing values."
      ],
      "metadata": {
        "id": "a7SmHrWuq4Ya"
      }
    },
    {
      "cell_type": "code",
      "source": [
        "df_ml.isna().sum()"
      ],
      "metadata": {
        "colab": {
          "base_uri": "https://localhost:8080/"
        },
        "id": "DtPL4wM_hv_O",
        "outputId": "e4203413-0790-4c14-b46c-f8afb6397903"
      },
      "execution_count": 7,
      "outputs": [
        {
          "output_type": "execute_result",
          "data": {
            "text/plain": [
              "ra          0\n",
              "dec         0\n",
              "u           0\n",
              "g           0\n",
              "r           0\n",
              "i           0\n",
              "z           0\n",
              "run         0\n",
              "camcol      0\n",
              "field       0\n",
              "class       0\n",
              "redshift    0\n",
              "plate       0\n",
              "mjd         0\n",
              "dtype: int64"
            ]
          },
          "metadata": {},
          "execution_count": 7
        }
      ]
    },
    {
      "cell_type": "code",
      "source": [
        "df_ml.fillna(df_ml.mode(), inplace=True)\n",
        "df_ml.isna().sum()"
      ],
      "metadata": {
        "colab": {
          "base_uri": "https://localhost:8080/"
        },
        "id": "Kvx2cMm0NVvC",
        "outputId": "425514b2-bb41-4b65-d41f-025db403b2b4"
      },
      "execution_count": 8,
      "outputs": [
        {
          "output_type": "execute_result",
          "data": {
            "text/plain": [
              "ra          0\n",
              "dec         0\n",
              "u           0\n",
              "g           0\n",
              "r           0\n",
              "i           0\n",
              "z           0\n",
              "run         0\n",
              "camcol      0\n",
              "field       0\n",
              "class       0\n",
              "redshift    0\n",
              "plate       0\n",
              "mjd         0\n",
              "dtype: int64"
            ]
          },
          "metadata": {},
          "execution_count": 8
        }
      ]
    },
    {
      "cell_type": "code",
      "source": [
        "df_ml.nunique"
      ],
      "metadata": {
        "colab": {
          "base_uri": "https://localhost:8080/"
        },
        "id": "Mz-z0a5TlXmf",
        "outputId": "70e14fa4-b442-4218-ad79-495540a7c621"
      },
      "execution_count": 9,
      "outputs": [
        {
          "output_type": "execute_result",
          "data": {
            "text/plain": [
              "<bound method DataFrame.nunique of                ra        dec         u         g         r         i  \\\n",
              "0       47.372545   0.820621  18.69254  17.13867  16.55555  16.34662   \n",
              "1      116.303083  42.455980  18.47633  17.30546  17.24116  17.32780   \n",
              "2      172.756623  -8.785698  16.47714  15.31072  15.55971  15.72207   \n",
              "3      201.224207  28.771290  18.63561  16.88346  16.09825  15.70987   \n",
              "4      212.817222  26.625225  18.88325  17.87948  17.47037  17.17441   \n",
              "...           ...        ...       ...       ...       ...       ...   \n",
              "99995  228.674917  19.179460  19.32631  18.82748  18.65659  18.60481   \n",
              "99996  173.757382  36.441603  18.33687  17.30365  17.16037  17.14895   \n",
              "99997  205.426531  38.499053  17.50690  15.63152  15.22328  15.04469   \n",
              "99998  337.135144  -9.635967  19.33946  17.21436  16.29697  15.86745   \n",
              "99999   37.440188  25.400888  18.11769  16.86279  16.31057  16.07582   \n",
              "\n",
              "              z   run  camcol  field   class  redshift  plate    mjd  \n",
              "0      16.17639  4849       5    771    STAR  0.000115   7255  56597  \n",
              "1      17.37114  6573       6    220    STAR -0.000093   8290  57364  \n",
              "2      15.82471  5973       1     13    STAR  0.000165   2861  54583  \n",
              "3      15.43491  4649       3    121  GALAXY  0.058155   2002  53471  \n",
              "4      17.05235  4649       3    191  GALAXY  0.072210   2123  53793  \n",
              "...         ...   ...     ...    ...     ...       ...    ...    ...  \n",
              "99995  18.60917  5237       5    134     QSO  0.438182   3951  55681  \n",
              "99996  17.14419  4504       2    111    STAR -0.000497   2012  53493  \n",
              "99997  15.28668  4382       4     97  GALAXY  0.004587   2005  53472  \n",
              "99998  15.51556  2576       2    105  GALAXY  0.084538    721  52228  \n",
              "99999  15.94701  5817       5    120    STAR -0.000085   2379  53762  \n",
              "\n",
              "[100000 rows x 14 columns]>"
            ]
          },
          "metadata": {},
          "execution_count": 9
        }
      ]
    },
    {
      "cell_type": "code",
      "source": [
        "df_ml.value_counts()"
      ],
      "metadata": {
        "colab": {
          "base_uri": "https://localhost:8080/"
        },
        "id": "lDJ7Zfs1rxiE",
        "outputId": "138366c1-61e8-47fe-a32f-d47d7becc364"
      },
      "execution_count": 10,
      "outputs": [
        {
          "output_type": "execute_result",
          "data": {
            "text/plain": [
              "ra          dec         u         g         r         i         z         run   camcol  field  class   redshift   plate  mjd  \n",
              "0.013061    -2.430081   18.55528  17.32828  17.20341  17.18222  17.18046  6361  4       12     STAR    -0.000698  7850   56956    1\n",
              "210.524601   11.143029  18.02393  16.82644  16.23775  15.86136  15.66288  3836  3       408    GALAXY   0.071837  1703   53799    1\n",
              "210.589396   53.400181  18.44684  17.21241  16.71799  16.52839  16.47038  3180  6       50     STAR    -0.000507  1324   53088    1\n",
              "210.588759   59.418987  17.76804  16.70717  16.40376  16.19597  16.05955  2304  2       282    GALAXY   0.032084  787    52320    1\n",
              "210.588625   39.370110  18.40118  16.99566  16.35453  15.98127  15.72925  3893  3       305    GALAXY   0.063748  1378   53061    1\n",
              "                                                                                                                                 ..\n",
              "151.420955   55.148825  19.08355  18.16671  17.86367  17.74656  17.70234  2987  3       29     STAR    -0.000193  8187   57423    1\n",
              "151.420253   14.417816  19.42048  18.24532  18.24811  18.30349  18.36228  5972  3       239    STAR     0.000681  3248   54880    1\n",
              "151.418691   3.969979   19.25806  18.62478  18.44147  18.16599  18.19037  2126  3       215    GALAXY   0.094760  573    52325    1\n",
              "151.418212   13.996575  18.75917  17.73621  17.41453  17.16581  17.02720  5972  2       239    GALAXY   0.051636  2586   54169    1\n",
              "359.999615   3.268586   18.90408  18.89371  18.62695  18.65747  18.71252  7712  5       329    QSO      1.232962  8741   57390    1\n",
              "Length: 100000, dtype: int64"
            ]
          },
          "metadata": {},
          "execution_count": 10
        }
      ]
    },
    {
      "cell_type": "code",
      "source": [
        "df_ml['class'].value_counts()"
      ],
      "metadata": {
        "colab": {
          "base_uri": "https://localhost:8080/"
        },
        "id": "aIQyZvWKsAM2",
        "outputId": "755621a3-ee32-4f7f-baa7-1f3883cad3a5"
      },
      "execution_count": 11,
      "outputs": [
        {
          "output_type": "execute_result",
          "data": {
            "text/plain": [
              "GALAXY    51323\n",
              "STAR      38096\n",
              "QSO       10581\n",
              "Name: class, dtype: int64"
            ]
          },
          "metadata": {},
          "execution_count": 11
        }
      ]
    },
    {
      "cell_type": "code",
      "source": [
        "le = LabelEncoder()\n",
        "df_ml['class'] = le.fit_transform(df_ml['class'])\n",
        "df_ml['class'].value_counts()\n"
      ],
      "metadata": {
        "colab": {
          "base_uri": "https://localhost:8080/"
        },
        "id": "Q7Bl4KDcR9Rm",
        "outputId": "b76ac938-f9be-4de0-a51b-572030bd4052"
      },
      "execution_count": 12,
      "outputs": [
        {
          "output_type": "execute_result",
          "data": {
            "text/plain": [
              "0    51323\n",
              "2    38096\n",
              "1    10581\n",
              "Name: class, dtype: int64"
            ]
          },
          "metadata": {},
          "execution_count": 12
        }
      ]
    },
    {
      "cell_type": "code",
      "source": [
        "df_ml.describe()"
      ],
      "metadata": {
        "colab": {
          "base_uri": "https://localhost:8080/",
          "height": 364
        },
        "id": "4uz3EeXvtOUk",
        "outputId": "20e2bfce-a4b1-4680-8db3-15d2f338a69b"
      },
      "execution_count": 13,
      "outputs": [
        {
          "output_type": "execute_result",
          "data": {
            "text/plain": [
              "                  ra            dec              u              g  \\\n",
              "count  100000.000000  100000.000000  100000.000000  100000.000000   \n",
              "mean      177.512888      25.052056      18.637915      17.407128   \n",
              "std        78.039070      20.567259       0.832284       0.985921   \n",
              "min         0.013061     -19.495456      10.611810       9.668339   \n",
              "25%       136.356526       6.770380      18.212902      16.852982   \n",
              "50%       180.411688      23.918611      18.873250      17.515860   \n",
              "75%       224.369107      40.344539      19.273302      18.056060   \n",
              "max       359.999615      84.490494      19.599950      19.996050   \n",
              "\n",
              "                   r              i              z            run  \\\n",
              "count  100000.000000  100000.000000  100000.000000  100000.000000   \n",
              "mean       16.881676      16.625534      16.467087    3978.727640   \n",
              "std         1.133337       1.209532       1.281788    1691.498597   \n",
              "min         9.005167       8.848403       8.947795     109.000000   \n",
              "25%        16.196607      15.865275      15.619960    2826.000000   \n",
              "50%        16.890640      16.599885      16.428385    3900.000000   \n",
              "75%        17.585750      17.344912      17.234625    5061.000000   \n",
              "max        31.990100      32.141470      29.383740    8162.000000   \n",
              "\n",
              "              camcol          field          class       redshift  \\\n",
              "count  100000.000000  100000.000000  100000.000000  100000.000000   \n",
              "mean        3.274010     187.243080       0.867730       0.170621   \n",
              "std         1.621208     141.037298       0.936324       0.437571   \n",
              "min         1.000000      11.000000       0.000000      -0.004136   \n",
              "25%         2.000000      85.000000       0.000000       0.000001   \n",
              "50%         3.000000     153.000000       0.000000       0.045997   \n",
              "75%         5.000000     249.000000       2.000000       0.095429   \n",
              "max         6.000000     982.000000       2.000000       7.011245   \n",
              "\n",
              "               plate            mjd  \n",
              "count  100000.000000  100000.000000  \n",
              "mean     2587.984270   53913.908690  \n",
              "std      2210.547391    1547.244489  \n",
              "min       266.000000   51608.000000  \n",
              "25%      1186.000000   52733.000000  \n",
              "50%      2091.000000   53726.000000  \n",
              "75%      2910.000000   54585.000000  \n",
              "max     11703.000000   58543.000000  "
            ],
            "text/html": [
              "\n",
              "  <div id=\"df-0f72dfbb-b9f3-47af-871d-9871ca4e56b3\">\n",
              "    <div class=\"colab-df-container\">\n",
              "      <div>\n",
              "<style scoped>\n",
              "    .dataframe tbody tr th:only-of-type {\n",
              "        vertical-align: middle;\n",
              "    }\n",
              "\n",
              "    .dataframe tbody tr th {\n",
              "        vertical-align: top;\n",
              "    }\n",
              "\n",
              "    .dataframe thead th {\n",
              "        text-align: right;\n",
              "    }\n",
              "</style>\n",
              "<table border=\"1\" class=\"dataframe\">\n",
              "  <thead>\n",
              "    <tr style=\"text-align: right;\">\n",
              "      <th></th>\n",
              "      <th>ra</th>\n",
              "      <th>dec</th>\n",
              "      <th>u</th>\n",
              "      <th>g</th>\n",
              "      <th>r</th>\n",
              "      <th>i</th>\n",
              "      <th>z</th>\n",
              "      <th>run</th>\n",
              "      <th>camcol</th>\n",
              "      <th>field</th>\n",
              "      <th>class</th>\n",
              "      <th>redshift</th>\n",
              "      <th>plate</th>\n",
              "      <th>mjd</th>\n",
              "    </tr>\n",
              "  </thead>\n",
              "  <tbody>\n",
              "    <tr>\n",
              "      <th>count</th>\n",
              "      <td>100000.000000</td>\n",
              "      <td>100000.000000</td>\n",
              "      <td>100000.000000</td>\n",
              "      <td>100000.000000</td>\n",
              "      <td>100000.000000</td>\n",
              "      <td>100000.000000</td>\n",
              "      <td>100000.000000</td>\n",
              "      <td>100000.000000</td>\n",
              "      <td>100000.000000</td>\n",
              "      <td>100000.000000</td>\n",
              "      <td>100000.000000</td>\n",
              "      <td>100000.000000</td>\n",
              "      <td>100000.000000</td>\n",
              "      <td>100000.000000</td>\n",
              "    </tr>\n",
              "    <tr>\n",
              "      <th>mean</th>\n",
              "      <td>177.512888</td>\n",
              "      <td>25.052056</td>\n",
              "      <td>18.637915</td>\n",
              "      <td>17.407128</td>\n",
              "      <td>16.881676</td>\n",
              "      <td>16.625534</td>\n",
              "      <td>16.467087</td>\n",
              "      <td>3978.727640</td>\n",
              "      <td>3.274010</td>\n",
              "      <td>187.243080</td>\n",
              "      <td>0.867730</td>\n",
              "      <td>0.170621</td>\n",
              "      <td>2587.984270</td>\n",
              "      <td>53913.908690</td>\n",
              "    </tr>\n",
              "    <tr>\n",
              "      <th>std</th>\n",
              "      <td>78.039070</td>\n",
              "      <td>20.567259</td>\n",
              "      <td>0.832284</td>\n",
              "      <td>0.985921</td>\n",
              "      <td>1.133337</td>\n",
              "      <td>1.209532</td>\n",
              "      <td>1.281788</td>\n",
              "      <td>1691.498597</td>\n",
              "      <td>1.621208</td>\n",
              "      <td>141.037298</td>\n",
              "      <td>0.936324</td>\n",
              "      <td>0.437571</td>\n",
              "      <td>2210.547391</td>\n",
              "      <td>1547.244489</td>\n",
              "    </tr>\n",
              "    <tr>\n",
              "      <th>min</th>\n",
              "      <td>0.013061</td>\n",
              "      <td>-19.495456</td>\n",
              "      <td>10.611810</td>\n",
              "      <td>9.668339</td>\n",
              "      <td>9.005167</td>\n",
              "      <td>8.848403</td>\n",
              "      <td>8.947795</td>\n",
              "      <td>109.000000</td>\n",
              "      <td>1.000000</td>\n",
              "      <td>11.000000</td>\n",
              "      <td>0.000000</td>\n",
              "      <td>-0.004136</td>\n",
              "      <td>266.000000</td>\n",
              "      <td>51608.000000</td>\n",
              "    </tr>\n",
              "    <tr>\n",
              "      <th>25%</th>\n",
              "      <td>136.356526</td>\n",
              "      <td>6.770380</td>\n",
              "      <td>18.212902</td>\n",
              "      <td>16.852982</td>\n",
              "      <td>16.196607</td>\n",
              "      <td>15.865275</td>\n",
              "      <td>15.619960</td>\n",
              "      <td>2826.000000</td>\n",
              "      <td>2.000000</td>\n",
              "      <td>85.000000</td>\n",
              "      <td>0.000000</td>\n",
              "      <td>0.000001</td>\n",
              "      <td>1186.000000</td>\n",
              "      <td>52733.000000</td>\n",
              "    </tr>\n",
              "    <tr>\n",
              "      <th>50%</th>\n",
              "      <td>180.411688</td>\n",
              "      <td>23.918611</td>\n",
              "      <td>18.873250</td>\n",
              "      <td>17.515860</td>\n",
              "      <td>16.890640</td>\n",
              "      <td>16.599885</td>\n",
              "      <td>16.428385</td>\n",
              "      <td>3900.000000</td>\n",
              "      <td>3.000000</td>\n",
              "      <td>153.000000</td>\n",
              "      <td>0.000000</td>\n",
              "      <td>0.045997</td>\n",
              "      <td>2091.000000</td>\n",
              "      <td>53726.000000</td>\n",
              "    </tr>\n",
              "    <tr>\n",
              "      <th>75%</th>\n",
              "      <td>224.369107</td>\n",
              "      <td>40.344539</td>\n",
              "      <td>19.273302</td>\n",
              "      <td>18.056060</td>\n",
              "      <td>17.585750</td>\n",
              "      <td>17.344912</td>\n",
              "      <td>17.234625</td>\n",
              "      <td>5061.000000</td>\n",
              "      <td>5.000000</td>\n",
              "      <td>249.000000</td>\n",
              "      <td>2.000000</td>\n",
              "      <td>0.095429</td>\n",
              "      <td>2910.000000</td>\n",
              "      <td>54585.000000</td>\n",
              "    </tr>\n",
              "    <tr>\n",
              "      <th>max</th>\n",
              "      <td>359.999615</td>\n",
              "      <td>84.490494</td>\n",
              "      <td>19.599950</td>\n",
              "      <td>19.996050</td>\n",
              "      <td>31.990100</td>\n",
              "      <td>32.141470</td>\n",
              "      <td>29.383740</td>\n",
              "      <td>8162.000000</td>\n",
              "      <td>6.000000</td>\n",
              "      <td>982.000000</td>\n",
              "      <td>2.000000</td>\n",
              "      <td>7.011245</td>\n",
              "      <td>11703.000000</td>\n",
              "      <td>58543.000000</td>\n",
              "    </tr>\n",
              "  </tbody>\n",
              "</table>\n",
              "</div>\n",
              "      <button class=\"colab-df-convert\" onclick=\"convertToInteractive('df-0f72dfbb-b9f3-47af-871d-9871ca4e56b3')\"\n",
              "              title=\"Convert this dataframe to an interactive table.\"\n",
              "              style=\"display:none;\">\n",
              "        \n",
              "  <svg xmlns=\"http://www.w3.org/2000/svg\" height=\"24px\"viewBox=\"0 0 24 24\"\n",
              "       width=\"24px\">\n",
              "    <path d=\"M0 0h24v24H0V0z\" fill=\"none\"/>\n",
              "    <path d=\"M18.56 5.44l.94 2.06.94-2.06 2.06-.94-2.06-.94-.94-2.06-.94 2.06-2.06.94zm-11 1L8.5 8.5l.94-2.06 2.06-.94-2.06-.94L8.5 2.5l-.94 2.06-2.06.94zm10 10l.94 2.06.94-2.06 2.06-.94-2.06-.94-.94-2.06-.94 2.06-2.06.94z\"/><path d=\"M17.41 7.96l-1.37-1.37c-.4-.4-.92-.59-1.43-.59-.52 0-1.04.2-1.43.59L10.3 9.45l-7.72 7.72c-.78.78-.78 2.05 0 2.83L4 21.41c.39.39.9.59 1.41.59.51 0 1.02-.2 1.41-.59l7.78-7.78 2.81-2.81c.8-.78.8-2.07 0-2.86zM5.41 20L4 18.59l7.72-7.72 1.47 1.35L5.41 20z\"/>\n",
              "  </svg>\n",
              "      </button>\n",
              "      \n",
              "  <style>\n",
              "    .colab-df-container {\n",
              "      display:flex;\n",
              "      flex-wrap:wrap;\n",
              "      gap: 12px;\n",
              "    }\n",
              "\n",
              "    .colab-df-convert {\n",
              "      background-color: #E8F0FE;\n",
              "      border: none;\n",
              "      border-radius: 50%;\n",
              "      cursor: pointer;\n",
              "      display: none;\n",
              "      fill: #1967D2;\n",
              "      height: 32px;\n",
              "      padding: 0 0 0 0;\n",
              "      width: 32px;\n",
              "    }\n",
              "\n",
              "    .colab-df-convert:hover {\n",
              "      background-color: #E2EBFA;\n",
              "      box-shadow: 0px 1px 2px rgba(60, 64, 67, 0.3), 0px 1px 3px 1px rgba(60, 64, 67, 0.15);\n",
              "      fill: #174EA6;\n",
              "    }\n",
              "\n",
              "    [theme=dark] .colab-df-convert {\n",
              "      background-color: #3B4455;\n",
              "      fill: #D2E3FC;\n",
              "    }\n",
              "\n",
              "    [theme=dark] .colab-df-convert:hover {\n",
              "      background-color: #434B5C;\n",
              "      box-shadow: 0px 1px 3px 1px rgba(0, 0, 0, 0.15);\n",
              "      filter: drop-shadow(0px 1px 2px rgba(0, 0, 0, 0.3));\n",
              "      fill: #FFFFFF;\n",
              "    }\n",
              "  </style>\n",
              "\n",
              "      <script>\n",
              "        const buttonEl =\n",
              "          document.querySelector('#df-0f72dfbb-b9f3-47af-871d-9871ca4e56b3 button.colab-df-convert');\n",
              "        buttonEl.style.display =\n",
              "          google.colab.kernel.accessAllowed ? 'block' : 'none';\n",
              "\n",
              "        async function convertToInteractive(key) {\n",
              "          const element = document.querySelector('#df-0f72dfbb-b9f3-47af-871d-9871ca4e56b3');\n",
              "          const dataTable =\n",
              "            await google.colab.kernel.invokeFunction('convertToInteractive',\n",
              "                                                     [key], {});\n",
              "          if (!dataTable) return;\n",
              "\n",
              "          const docLinkHtml = 'Like what you see? Visit the ' +\n",
              "            '<a target=\"_blank\" href=https://colab.research.google.com/notebooks/data_table.ipynb>data table notebook</a>'\n",
              "            + ' to learn more about interactive tables.';\n",
              "          element.innerHTML = '';\n",
              "          dataTable['output_type'] = 'display_data';\n",
              "          await google.colab.output.renderOutput(dataTable, element);\n",
              "          const docLink = document.createElement('div');\n",
              "          docLink.innerHTML = docLinkHtml;\n",
              "          element.appendChild(docLink);\n",
              "        }\n",
              "      </script>\n",
              "    </div>\n",
              "  </div>\n",
              "  "
            ]
          },
          "metadata": {},
          "execution_count": 13
        }
      ]
    },
    {
      "cell_type": "markdown",
      "source": [
        "## - Try multiple models and tune the hyperparameters of each model to optimize model performance (include all models and hyperparameters tested in addition to the final model).\n"
      ],
      "metadata": {
        "id": "OTdwo9uDwCV0"
      }
    },
    {
      "cell_type": "code",
      "source": [
        "X = df_ml.drop(columns=['class'])\n",
        "y = df_ml['class']\n",
        "\n",
        "X_train, X_test, y_train, y_test =  train_test_split(X, y, random_state=42)"
      ],
      "metadata": {
        "id": "6S1uhkrMPgLK"
      },
      "execution_count": 14,
      "outputs": []
    },
    {
      "cell_type": "code",
      "source": [
        "scaler = StandardScaler()\n",
        "\n",
        "knn = KNeighborsClassifier()\n",
        "\n",
        "rfc = RandomForestClassifier(random_state=42)\n",
        "\n",
        "pca = PCA(n_components=0.95)"
      ],
      "metadata": {
        "id": "Q7WEJSc9Tbx4"
      },
      "execution_count": 15,
      "outputs": []
    },
    {
      "cell_type": "markdown",
      "source": [
        "- KNN Model"
      ],
      "metadata": {
        "id": "JNyr0kKdctid"
      }
    },
    {
      "cell_type": "code",
      "source": [
        "knn_pipe = make_pipeline(scaler, knn)\n",
        "knn_pipe.fit(X_train, y_train)"
      ],
      "metadata": {
        "colab": {
          "base_uri": "https://localhost:8080/"
        },
        "id": "wopGDsbHUDNp",
        "outputId": "e28a0581-d86d-48d3-e582-b07992846573"
      },
      "execution_count": 16,
      "outputs": [
        {
          "output_type": "execute_result",
          "data": {
            "text/plain": [
              "Pipeline(steps=[('standardscaler', StandardScaler()),\n",
              "                ('kneighborsclassifier', KNeighborsClassifier())])"
            ]
          },
          "metadata": {},
          "execution_count": 16
        }
      ]
    },
    {
      "cell_type": "code",
      "source": [
        "%%time\n",
        "knn_train_preds = knn_pipe.predict(X_train)\n",
        "knn_test_preds = knn_pipe.predict(X_test)"
      ],
      "metadata": {
        "colab": {
          "base_uri": "https://localhost:8080/"
        },
        "id": "H6l22ohcUtEJ",
        "outputId": "c01b6789-454f-4503-e24f-efc16dab24b1"
      },
      "execution_count": 17,
      "outputs": [
        {
          "output_type": "stream",
          "name": "stdout",
          "text": [
            "CPU times: user 37.5 s, sys: 133 ms, total: 37.7 s\n",
            "Wall time: 39.3 s\n"
          ]
        }
      ]
    },
    {
      "cell_type": "code",
      "source": [
        "print('Classification Report for KNN Testing Set')\n",
        "print()\n",
        "print(classification_report(y_test, knn_test_preds))\n",
        "ConfusionMatrixDisplay.from_predictions(y_test, knn_test_preds)\n",
        "plt.show()"
      ],
      "metadata": {
        "colab": {
          "base_uri": "https://localhost:8080/",
          "height": 493
        },
        "id": "yQC5pzqxVgrc",
        "outputId": "a7785909-21c9-4ecf-9a10-f66acac2b6fb"
      },
      "execution_count": 48,
      "outputs": [
        {
          "output_type": "stream",
          "name": "stdout",
          "text": [
            "Classification Report for KNN Testing Set\n",
            "\n",
            "              precision    recall  f1-score   support\n",
            "\n",
            "           0       0.90      0.96      0.93     12872\n",
            "           1       0.99      0.89      0.93      2590\n",
            "           2       0.93      0.88      0.91      9538\n",
            "\n",
            "    accuracy                           0.92     25000\n",
            "   macro avg       0.94      0.91      0.92     25000\n",
            "weighted avg       0.92      0.92      0.92     25000\n",
            "\n"
          ]
        },
        {
          "output_type": "display_data",
          "data": {
            "text/plain": [
              "<Figure size 432x288 with 2 Axes>"
            ],
            "image/png": "[encoded data removed]"
          },
          "metadata": {
            "needs_background": "light"
          }
        }
      ]
    },
    {
      "cell_type": "code",
      "source": [
        "knn_pipe.get_params()"
      ],
      "metadata": {
        "colab": {
          "base_uri": "https://localhost:8080/"
        },
        "id": "9-8SZ5x3wMlK",
        "outputId": "afeace88-d5a9-4f15-988b-6f8990aacc0b"
      },
      "execution_count": 19,
      "outputs": [
        {
          "output_type": "execute_result",
          "data": {
            "text/plain": [
              "{'memory': None,\n",
              " 'steps': [('standardscaler', StandardScaler()),\n",
              "  ('kneighborsclassifier', KNeighborsClassifier())],\n",
              " 'verbose': False,\n",
              " 'standardscaler': StandardScaler(),\n",
              " 'kneighborsclassifier': KNeighborsClassifier(),\n",
              " 'standardscaler__copy': True,\n",
              " 'standardscaler__with_mean': True,\n",
              " 'standardscaler__with_std': True,\n",
              " 'kneighborsclassifier__algorithm': 'auto',\n",
              " 'kneighborsclassifier__leaf_size': 30,\n",
              " 'kneighborsclassifier__metric': 'minkowski',\n",
              " 'kneighborsclassifier__metric_params': None,\n",
              " 'kneighborsclassifier__n_jobs': None,\n",
              " 'kneighborsclassifier__n_neighbors': 5,\n",
              " 'kneighborsclassifier__p': 2,\n",
              " 'kneighborsclassifier__weights': 'uniform'}"
            ]
          },
          "metadata": {},
          "execution_count": 19
        }
      ]
    },
    {
      "cell_type": "markdown",
      "source": [
        "I ran a gridsearchcv, and it came up with P=1, and weights='distance'.  I did not include the code here, as it took over an hour to run."
      ],
      "metadata": {
        "id": "e6TmprzWuLJ-"
      }
    },
    {
      "cell_type": "code",
      "source": [
        "knn_best_pipe = make_pipeline(scaler,KNeighborsClassifier(p=1, weights='distance'))\n",
        "knn_best_pipe.fit(X_train, y_train)"
      ],
      "metadata": {
        "colab": {
          "base_uri": "https://localhost:8080/"
        },
        "id": "agR7W7Q3JgB0",
        "outputId": "0b1019ee-d4ca-4b1c-fb62-1ec760004d96"
      },
      "execution_count": 20,
      "outputs": [
        {
          "output_type": "execute_result",
          "data": {
            "text/plain": [
              "Pipeline(steps=[('standardscaler', StandardScaler()),\n",
              "                ('kneighborsclassifier',\n",
              "                 KNeighborsClassifier(p=1, weights='distance'))])"
            ]
          },
          "metadata": {},
          "execution_count": 20
        }
      ]
    },
    {
      "cell_type": "code",
      "source": [
        "%%time\n",
        "knn_best_train_preds = knn_best_pipe.predict(X_train)\n",
        "knn_best_test_preds = knn_best_pipe.predict(X_test)"
      ],
      "metadata": {
        "colab": {
          "base_uri": "https://localhost:8080/"
        },
        "id": "q7hGIaf8MmSZ",
        "outputId": "c1fa7098-1fc7-46f6-f6e8-c1b2498a4328"
      },
      "execution_count": 21,
      "outputs": [
        {
          "output_type": "stream",
          "name": "stdout",
          "text": [
            "CPU times: user 52.1 s, sys: 62.9 ms, total: 52.2 s\n",
            "Wall time: 52.1 s\n"
          ]
        }
      ]
    },
    {
      "cell_type": "code",
      "source": [
        "print('Classification Report for Best KNN Testing Set')\n",
        "print()\n",
        "print(classification_report(y_test, knn_best_test_preds))\n",
        "ConfusionMatrixDisplay.from_predictions(y_test, knn_best_test_preds)\n",
        "plt.show()"
      ],
      "metadata": {
        "colab": {
          "base_uri": "https://localhost:8080/",
          "height": 493
        },
        "id": "jVsRs4nXOV05",
        "outputId": "ba75b5e5-7797-4b34-b701-032147058109"
      },
      "execution_count": 47,
      "outputs": [
        {
          "output_type": "stream",
          "name": "stdout",
          "text": [
            "Classification Report for Best KNN Testing Set\n",
            "\n",
            "              precision    recall  f1-score   support\n",
            "\n",
            "           0       0.92      0.96      0.94     12872\n",
            "           1       0.98      0.87      0.93      2590\n",
            "           2       0.94      0.92      0.93      9538\n",
            "\n",
            "    accuracy                           0.94     25000\n",
            "   macro avg       0.95      0.92      0.93     25000\n",
            "weighted avg       0.94      0.94      0.94     25000\n",
            "\n"
          ]
        },
        {
          "output_type": "display_data",
          "data": {
            "text/plain": [
              "<Figure size 432x288 with 2 Axes>"
            ],
            "image/png": "[encoded data removed]"
          },
          "metadata": {
            "needs_background": "light"
          }
        }
      ]
    },
    {
      "cell_type": "markdown",
      "source": [
        "You can see that we increased the accuracy by two percent, by hypertuning the parameters."
      ],
      "metadata": {
        "id": "j9bTAZK4vzgz"
      }
    },
    {
      "cell_type": "markdown",
      "source": [
        "- Random Forest Model"
      ],
      "metadata": {
        "id": "e7gAI7epc1gc"
      }
    },
    {
      "cell_type": "code",
      "source": [
        "rfc_pipe = make_pipeline(scaler, rfc)\n",
        "rfc_pipe.fit(X_train, y_train)"
      ],
      "metadata": {
        "colab": {
          "base_uri": "https://localhost:8080/"
        },
        "id": "KT8gx-bkYSKg",
        "outputId": "697bc194-0863-4c1b-997e-e885ac840f71"
      },
      "execution_count": 23,
      "outputs": [
        {
          "output_type": "execute_result",
          "data": {
            "text/plain": [
              "Pipeline(steps=[('standardscaler', StandardScaler()),\n",
              "                ('randomforestclassifier',\n",
              "                 RandomForestClassifier(random_state=42))])"
            ]
          },
          "metadata": {},
          "execution_count": 23
        }
      ]
    },
    {
      "cell_type": "code",
      "source": [
        "%%time\n",
        "rfc_train_preds = rfc_pipe.predict(X_train)\n",
        "rfc_test_preds = rfc_pipe.predict(X_test)"
      ],
      "metadata": {
        "colab": {
          "base_uri": "https://localhost:8080/"
        },
        "id": "4VXAC5H7ryZY",
        "outputId": "00359a1f-3ab5-4e9b-93ee-47cfd6da962a"
      },
      "execution_count": 24,
      "outputs": [
        {
          "output_type": "stream",
          "name": "stdout",
          "text": [
            "CPU times: user 1.75 s, sys: 20 ms, total: 1.77 s\n",
            "Wall time: 1.78 s\n"
          ]
        }
      ]
    },
    {
      "cell_type": "code",
      "source": [
        "print('Classification Report for Random Forest Classifier Testing Set')\n",
        "print()\n",
        "print(classification_report(y_test, rfc_test_preds))\n",
        "ConfusionMatrixDisplay.from_predictions(y_test, rfc_test_preds)\n",
        "plt.show()"
      ],
      "metadata": {
        "colab": {
          "base_uri": "https://localhost:8080/",
          "height": 493
        },
        "id": "HnSM-1-usAQa",
        "outputId": "b91b50fd-f67f-4b33-f335-045fefb857b4"
      },
      "execution_count": 49,
      "outputs": [
        {
          "output_type": "stream",
          "name": "stdout",
          "text": [
            "Classification Report for Random Forest Classifier Testing Set\n",
            "\n",
            "              precision    recall  f1-score   support\n",
            "\n",
            "           0       0.99      0.99      0.99     12872\n",
            "           1       0.98      0.94      0.96      2590\n",
            "           2       1.00      1.00      1.00      9538\n",
            "\n",
            "    accuracy                           0.99     25000\n",
            "   macro avg       0.99      0.98      0.98     25000\n",
            "weighted avg       0.99      0.99      0.99     25000\n",
            "\n"
          ]
        },
        {
          "output_type": "display_data",
          "data": {
            "text/plain": [
              "<Figure size 432x288 with 2 Axes>"
            ],
            "image/png": "[encoded data removed]"
          },
          "metadata": {
            "needs_background": "light"
          }
        }
      ]
    },
    {
      "cell_type": "markdown",
      "source": [
        "I also ran a gridsearchcv for the RFC, and the results actually lowered the score so were not included here. It also took over a half and hour to run."
      ],
      "metadata": {
        "id": "WzcQm6KXuwei"
      }
    },
    {
      "cell_type": "markdown",
      "source": [
        "## Perform PCA or another feature engineering technique on your dataset to see how this impacts your results. (We encourage you to try multiple techniques depending on your data!).\n"
      ],
      "metadata": {
        "id": "aXIbVOnHhGea"
      }
    },
    {
      "cell_type": "markdown",
      "source": [
        "- KNN PCA "
      ],
      "metadata": {
        "id": "Lo8LsE-ikYoA"
      }
    },
    {
      "cell_type": "code",
      "source": [
        "knn_pca = make_pipeline(scaler,pca,KNeighborsClassifier())\n",
        "knn_pca.fit(X_train, y_train)"
      ],
      "metadata": {
        "colab": {
          "base_uri": "https://localhost:8080/"
        },
        "id": "AYSI0Gh2hK0J",
        "outputId": "04d35215-3dc3-4693-c3d3-3133c2cced67"
      },
      "execution_count": 38,
      "outputs": [
        {
          "output_type": "execute_result",
          "data": {
            "text/plain": [
              "Pipeline(steps=[('standardscaler', StandardScaler()),\n",
              "                ('pca', PCA(n_components=0.95)),\n",
              "                ('kneighborsclassifier', KNeighborsClassifier())])"
            ]
          },
          "metadata": {},
          "execution_count": 38
        }
      ]
    },
    {
      "cell_type": "code",
      "source": [
        "%%time\n",
        "pca_train_preds = knn_pca.predict(X_train)\n",
        "pca_test_preds = knn_pca.predict(X_test)"
      ],
      "metadata": {
        "colab": {
          "base_uri": "https://localhost:8080/"
        },
        "id": "IBduK5kdkh46",
        "outputId": "91e29f9d-08cf-4b3c-c98f-41865527b04e"
      },
      "execution_count": 39,
      "outputs": [
        {
          "output_type": "stream",
          "name": "stdout",
          "text": [
            "CPU times: user 9.27 s, sys: 295 ms, total: 9.56 s\n",
            "Wall time: 10.1 s\n"
          ]
        }
      ]
    },
    {
      "cell_type": "code",
      "source": [
        "print('Classification Report for KNN PCA Testing Set')\n",
        "print()\n",
        "print(classification_report(y_test, pca_test_preds))\n",
        "ConfusionMatrixDisplay.from_predictions(y_test, pca_test_preds)\n",
        "plt.show()"
      ],
      "metadata": {
        "colab": {
          "base_uri": "https://localhost:8080/",
          "height": 493
        },
        "id": "ktvRUhzpmDmG",
        "outputId": "4a528e8b-fcf6-4b12-d872-85627b55e992"
      },
      "execution_count": 50,
      "outputs": [
        {
          "output_type": "stream",
          "name": "stdout",
          "text": [
            "Classification Report for KNN PCA Testing Set\n",
            "\n",
            "              precision    recall  f1-score   support\n",
            "\n",
            "           0       0.87      0.95      0.91     12872\n",
            "           1       0.97      0.87      0.92      2590\n",
            "           2       0.92      0.83      0.87      9538\n",
            "\n",
            "    accuracy                           0.90     25000\n",
            "   macro avg       0.92      0.88      0.90     25000\n",
            "weighted avg       0.90      0.90      0.90     25000\n",
            "\n"
          ]
        },
        {
          "output_type": "display_data",
          "data": {
            "text/plain": [
              "<Figure size 432x288 with 2 Axes>"
            ],
            "image/png": "[encoded data removed]"
          },
          "metadata": {
            "needs_background": "light"
          }
        }
      ]
    },
    {
      "cell_type": "markdown",
      "source": [
        "- Random Forest Classifier PCA"
      ],
      "metadata": {
        "id": "hExIZHsCnZVC"
      }
    },
    {
      "cell_type": "code",
      "source": [
        "rfc_pca = make_pipeline(scaler,pca,rfc)\n",
        "rfc_pca.fit(X_train, y_train)"
      ],
      "metadata": {
        "colab": {
          "base_uri": "https://localhost:8080/"
        },
        "id": "8HkhKs6smu20",
        "outputId": "c2005d97-8915-42fe-c6e3-94fc505249c3"
      },
      "execution_count": 42,
      "outputs": [
        {
          "output_type": "execute_result",
          "data": {
            "text/plain": [
              "Pipeline(steps=[('standardscaler', StandardScaler()),\n",
              "                ('pca', PCA(n_components=0.95)),\n",
              "                ('randomforestclassifier',\n",
              "                 RandomForestClassifier(random_state=42))])"
            ]
          },
          "metadata": {},
          "execution_count": 42
        }
      ]
    },
    {
      "cell_type": "code",
      "source": [
        "%%time\n",
        "rfc_pca_train_preds = rfc_pca.predict(X_train)\n",
        "rfc_pca_test_preds = rfc_pca.predict(X_test)"
      ],
      "metadata": {
        "colab": {
          "base_uri": "https://localhost:8080/"
        },
        "id": "OUdA6IpTo8-w",
        "outputId": "13f3d6b0-5f0d-49b7-f0c1-2d47eb96a12a"
      },
      "execution_count": 43,
      "outputs": [
        {
          "output_type": "stream",
          "name": "stdout",
          "text": [
            "CPU times: user 2.81 s, sys: 226 ms, total: 3.04 s\n",
            "Wall time: 2.82 s\n"
          ]
        }
      ]
    },
    {
      "cell_type": "code",
      "source": [
        "print('Classification Report for RFC PCA Testing Set')\n",
        "print()\n",
        "print(classification_report(y_test, rfc_pca_test_preds))\n",
        "ConfusionMatrixDisplay.from_predictions(y_test, rfc_pca_test_preds)\n",
        "plt.show()"
      ],
      "metadata": {
        "colab": {
          "base_uri": "https://localhost:8080/",
          "height": 494
        },
        "id": "8HLGTW9NpaFM",
        "outputId": "23ed78ac-3315-4f28-ab6d-3cfef96432a9"
      },
      "execution_count": 51,
      "outputs": [
        {
          "output_type": "stream",
          "name": "stdout",
          "text": [
            "Classification Report for RFC PCA Testing Set\n",
            "\n",
            "              precision    recall  f1-score   support\n",
            "\n",
            "           0       0.90      0.95      0.92     12872\n",
            "           1       0.98      0.88      0.93      2590\n",
            "           2       0.92      0.87      0.89      9538\n",
            "\n",
            "    accuracy                           0.91     25000\n",
            "   macro avg       0.93      0.90      0.91     25000\n",
            "weighted avg       0.91      0.91      0.91     25000\n",
            "\n"
          ]
        },
        {
          "output_type": "display_data",
          "data": {
            "text/plain": [
              "<Figure size 432x288 with 2 Axes>"
            ],
            "image/png": "[encoded data removed]"
          },
          "metadata": {
            "needs_background": "light"
          }
        }
      ]
    },
    {
      "cell_type": "markdown",
      "source": [
        "## Choose your \"production\" model and justify this decision.\n"
      ],
      "metadata": {
        "id": "7XUkMiv_sL-f"
      }
    },
    {
      "cell_type": "markdown",
      "source": [
        "The Random Forest Classification Model, with no pca, is by far the best model for this data. With a score of 99%. Using PCA on the data, really helped speed up the models, but ultimatly at a cost of accuracy."
      ],
      "metadata": {
        "id": "voPWK57YsR-6"
      }
    }
  ]
}